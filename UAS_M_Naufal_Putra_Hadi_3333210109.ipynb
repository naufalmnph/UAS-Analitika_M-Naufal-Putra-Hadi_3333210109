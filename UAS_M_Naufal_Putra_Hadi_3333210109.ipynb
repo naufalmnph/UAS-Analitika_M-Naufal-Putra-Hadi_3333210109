{
  "cells": [
    {
      "cell_type": "markdown",
      "metadata": {
        "id": "view-in-github",
        "colab_type": "text"
      },
      "source": [
        "<a href=\"https://colab.research.google.com/github/naufalmnph/UAS-Analitika_M-Naufal-Putra-Hadi_3333210109/blob/main/UAS_M_Naufal_Putra_Hadi_3333210109.ipynb\" target=\"_parent\"><img src=\"https://colab.research.google.com/assets/colab-badge.svg\" alt=\"Open In Colab\"/></a>"
      ]
    },
    {
      "cell_type": "markdown",
      "source": [
        "**Time Series**\n",
        "\n",
        "A time-series is a series of data points indexed in time order and it is used to predict the future based on the previous observed values. Time series are very frequently plotted via line charts. Time series are used in statistics , weather forecasting, stock price prediction, pattern recognititon, earthquake prediction, e.t.c.\n",
        "\n",
        "Time series analysis comprises methods for analysing time series data in order to extract meaningful statistics and other characteristics of the data.\n",
        "\n",
        "Time series forecasting is the use of a model to predict future values based on previously observed values."
      ],
      "metadata": {
        "id": "ceTGfrcAoIyG"
      }
    },
    {
      "cell_type": "markdown",
      "source": [
        "**Import Library**"
      ],
      "metadata": {
        "id": "KTuS__yhzwG4"
      }
    },
    {
      "cell_type": "markdown",
      "source": [
        "Import library yang digunakan"
      ],
      "metadata": {
        "id": "56eVfH0BVo7J"
      }
    },
    {
      "cell_type": "code",
      "source": [
        "import pandas as pd\n",
        "import numpy as np\n",
        "import matplotlib.pyplot as plt\n",
        "import seaborn as sns\n",
        "import math\n",
        "import datetime\n",
        "%matplotlib inline"
      ],
      "metadata": {
        "id": "uCngqnD4qrmY"
      },
      "execution_count": 97,
      "outputs": []
    },
    {
      "cell_type": "markdown",
      "source": [
        "**Import Dataset**"
      ],
      "metadata": {
        "id": "8hRjDuoyzlpH"
      }
    },
    {
      "cell_type": "markdown",
      "source": [
        "import dataset yang sudah diupload pada google drive menggunakan perintah gdown"
      ],
      "metadata": {
        "id": "IzZdTvtYzpUg"
      }
    },
    {
      "cell_type": "code",
      "source": [
        "# https://drive.google.com/file/d/1PKLKi9n9tRW6Kqbl-LoVxLWKQ0qsrRn9/view?usp=sharing\n",
        "\n",
        "!gdown 1PKLKi9n9tRW6Kqbl-LoVxLWKQ0qsrRn9"
      ],
      "metadata": {
        "colab": {
          "base_uri": "https://localhost:8080/"
        },
        "id": "sKdunXrwzd2e",
        "outputId": "d6d87e91-018f-4f61-b198-5519abb1fe02"
      },
      "execution_count": 98,
      "outputs": [
        {
          "output_type": "stream",
          "name": "stdout",
          "text": [
            "Downloading...\n",
            "From: https://drive.google.com/uc?id=1PKLKi9n9tRW6Kqbl-LoVxLWKQ0qsrRn9\n",
            "To: /content/FB.csv\n",
            "\r  0% 0.00/182k [00:00<?, ?B/s]\r100% 182k/182k [00:00<00:00, 119MB/s]\n"
          ]
        }
      ]
    },
    {
      "cell_type": "markdown",
      "source": [
        "Kumpulan data ini memberikan riwayat harga harian saham Facebook. Data dimulai dari 18-Mei-2012 hingga 24-Maret-2022. Semua deskripsi kolom disediakan. Mata uang adalah USD."
      ],
      "metadata": {
        "id": "Aa6S5LDLlXx6"
      }
    },
    {
      "cell_type": "markdown",
      "source": [
        "Menampilkan data yang sudah berhasil di import dan menampilkan 5 baris pertama dengan  train data head"
      ],
      "metadata": {
        "id": "fANV8ZkIWPIB"
      }
    },
    {
      "cell_type": "code",
      "source": [
        "train_data = pd.read_csv('FB.csv')\n",
        "train_data.head()"
      ],
      "metadata": {
        "colab": {
          "base_uri": "https://localhost:8080/",
          "height": 206
        },
        "id": "z4ytHhkuz0hQ",
        "outputId": "8b92a81b-396e-49e7-a6f8-9342d9a11a24"
      },
      "execution_count": 99,
      "outputs": [
        {
          "output_type": "execute_result",
          "data": {
            "text/plain": [
              "         Date       Open       High        Low      Close  Adj Close  \\\n",
              "0  2012-05-18  42.049999  45.000000  38.000000  38.230000  38.230000   \n",
              "1  2012-05-21  36.529999  36.660000  33.000000  34.029999  34.029999   \n",
              "2  2012-05-22  32.610001  33.590000  30.940001  31.000000  31.000000   \n",
              "3  2012-05-23  31.370001  32.500000  31.360001  32.000000  32.000000   \n",
              "4  2012-05-24  32.950001  33.209999  31.770000  33.029999  33.029999   \n",
              "\n",
              "      Volume  \n",
              "0  573576400  \n",
              "1  168192700  \n",
              "2  101786600  \n",
              "3   73600000  \n",
              "4   50237200  "
            ],
            "text/html": [
              "\n",
              "  <div id=\"df-f51901f3-ade1-41c3-9e1f-7b791ac56a87\">\n",
              "    <div class=\"colab-df-container\">\n",
              "      <div>\n",
              "<style scoped>\n",
              "    .dataframe tbody tr th:only-of-type {\n",
              "        vertical-align: middle;\n",
              "    }\n",
              "\n",
              "    .dataframe tbody tr th {\n",
              "        vertical-align: top;\n",
              "    }\n",
              "\n",
              "    .dataframe thead th {\n",
              "        text-align: right;\n",
              "    }\n",
              "</style>\n",
              "<table border=\"1\" class=\"dataframe\">\n",
              "  <thead>\n",
              "    <tr style=\"text-align: right;\">\n",
              "      <th></th>\n",
              "      <th>Date</th>\n",
              "      <th>Open</th>\n",
              "      <th>High</th>\n",
              "      <th>Low</th>\n",
              "      <th>Close</th>\n",
              "      <th>Adj Close</th>\n",
              "      <th>Volume</th>\n",
              "    </tr>\n",
              "  </thead>\n",
              "  <tbody>\n",
              "    <tr>\n",
              "      <th>0</th>\n",
              "      <td>2012-05-18</td>\n",
              "      <td>42.049999</td>\n",
              "      <td>45.000000</td>\n",
              "      <td>38.000000</td>\n",
              "      <td>38.230000</td>\n",
              "      <td>38.230000</td>\n",
              "      <td>573576400</td>\n",
              "    </tr>\n",
              "    <tr>\n",
              "      <th>1</th>\n",
              "      <td>2012-05-21</td>\n",
              "      <td>36.529999</td>\n",
              "      <td>36.660000</td>\n",
              "      <td>33.000000</td>\n",
              "      <td>34.029999</td>\n",
              "      <td>34.029999</td>\n",
              "      <td>168192700</td>\n",
              "    </tr>\n",
              "    <tr>\n",
              "      <th>2</th>\n",
              "      <td>2012-05-22</td>\n",
              "      <td>32.610001</td>\n",
              "      <td>33.590000</td>\n",
              "      <td>30.940001</td>\n",
              "      <td>31.000000</td>\n",
              "      <td>31.000000</td>\n",
              "      <td>101786600</td>\n",
              "    </tr>\n",
              "    <tr>\n",
              "      <th>3</th>\n",
              "      <td>2012-05-23</td>\n",
              "      <td>31.370001</td>\n",
              "      <td>32.500000</td>\n",
              "      <td>31.360001</td>\n",
              "      <td>32.000000</td>\n",
              "      <td>32.000000</td>\n",
              "      <td>73600000</td>\n",
              "    </tr>\n",
              "    <tr>\n",
              "      <th>4</th>\n",
              "      <td>2012-05-24</td>\n",
              "      <td>32.950001</td>\n",
              "      <td>33.209999</td>\n",
              "      <td>31.770000</td>\n",
              "      <td>33.029999</td>\n",
              "      <td>33.029999</td>\n",
              "      <td>50237200</td>\n",
              "    </tr>\n",
              "  </tbody>\n",
              "</table>\n",
              "</div>\n",
              "      <button class=\"colab-df-convert\" onclick=\"convertToInteractive('df-f51901f3-ade1-41c3-9e1f-7b791ac56a87')\"\n",
              "              title=\"Convert this dataframe to an interactive table.\"\n",
              "              style=\"display:none;\">\n",
              "        \n",
              "  <svg xmlns=\"http://www.w3.org/2000/svg\" height=\"24px\"viewBox=\"0 0 24 24\"\n",
              "       width=\"24px\">\n",
              "    <path d=\"M0 0h24v24H0V0z\" fill=\"none\"/>\n",
              "    <path d=\"M18.56 5.44l.94 2.06.94-2.06 2.06-.94-2.06-.94-.94-2.06-.94 2.06-2.06.94zm-11 1L8.5 8.5l.94-2.06 2.06-.94-2.06-.94L8.5 2.5l-.94 2.06-2.06.94zm10 10l.94 2.06.94-2.06 2.06-.94-2.06-.94-.94-2.06-.94 2.06-2.06.94z\"/><path d=\"M17.41 7.96l-1.37-1.37c-.4-.4-.92-.59-1.43-.59-.52 0-1.04.2-1.43.59L10.3 9.45l-7.72 7.72c-.78.78-.78 2.05 0 2.83L4 21.41c.39.39.9.59 1.41.59.51 0 1.02-.2 1.41-.59l7.78-7.78 2.81-2.81c.8-.78.8-2.07 0-2.86zM5.41 20L4 18.59l7.72-7.72 1.47 1.35L5.41 20z\"/>\n",
              "  </svg>\n",
              "      </button>\n",
              "      \n",
              "  <style>\n",
              "    .colab-df-container {\n",
              "      display:flex;\n",
              "      flex-wrap:wrap;\n",
              "      gap: 12px;\n",
              "    }\n",
              "\n",
              "    .colab-df-convert {\n",
              "      background-color: #E8F0FE;\n",
              "      border: none;\n",
              "      border-radius: 50%;\n",
              "      cursor: pointer;\n",
              "      display: none;\n",
              "      fill: #1967D2;\n",
              "      height: 32px;\n",
              "      padding: 0 0 0 0;\n",
              "      width: 32px;\n",
              "    }\n",
              "\n",
              "    .colab-df-convert:hover {\n",
              "      background-color: #E2EBFA;\n",
              "      box-shadow: 0px 1px 2px rgba(60, 64, 67, 0.3), 0px 1px 3px 1px rgba(60, 64, 67, 0.15);\n",
              "      fill: #174EA6;\n",
              "    }\n",
              "\n",
              "    [theme=dark] .colab-df-convert {\n",
              "      background-color: #3B4455;\n",
              "      fill: #D2E3FC;\n",
              "    }\n",
              "\n",
              "    [theme=dark] .colab-df-convert:hover {\n",
              "      background-color: #434B5C;\n",
              "      box-shadow: 0px 1px 3px 1px rgba(0, 0, 0, 0.15);\n",
              "      filter: drop-shadow(0px 1px 2px rgba(0, 0, 0, 0.3));\n",
              "      fill: #FFFFFF;\n",
              "    }\n",
              "  </style>\n",
              "\n",
              "      <script>\n",
              "        const buttonEl =\n",
              "          document.querySelector('#df-f51901f3-ade1-41c3-9e1f-7b791ac56a87 button.colab-df-convert');\n",
              "        buttonEl.style.display =\n",
              "          google.colab.kernel.accessAllowed ? 'block' : 'none';\n",
              "\n",
              "        async function convertToInteractive(key) {\n",
              "          const element = document.querySelector('#df-f51901f3-ade1-41c3-9e1f-7b791ac56a87');\n",
              "          const dataTable =\n",
              "            await google.colab.kernel.invokeFunction('convertToInteractive',\n",
              "                                                     [key], {});\n",
              "          if (!dataTable) return;\n",
              "\n",
              "          const docLinkHtml = 'Like what you see? Visit the ' +\n",
              "            '<a target=\"_blank\" href=https://colab.research.google.com/notebooks/data_table.ipynb>data table notebook</a>'\n",
              "            + ' to learn more about interactive tables.';\n",
              "          element.innerHTML = '';\n",
              "          dataTable['output_type'] = 'display_data';\n",
              "          await google.colab.output.renderOutput(dataTable, element);\n",
              "          const docLink = document.createElement('div');\n",
              "          docLink.innerHTML = docLinkHtml;\n",
              "          element.appendChild(docLink);\n",
              "        }\n",
              "      </script>\n",
              "    </div>\n",
              "  </div>\n",
              "  "
            ]
          },
          "metadata": {},
          "execution_count": 99
        }
      ]
    },
    {
      "cell_type": "markdown",
      "source": [
        "melihat informasi yang terdapat pada data apakah terdapat missing value. pada data terebut tidak ditemukan adanya missing value."
      ],
      "metadata": {
        "id": "YJuRYmM00AJv"
      }
    },
    {
      "cell_type": "code",
      "source": [
        "train_data.info()"
      ],
      "metadata": {
        "colab": {
          "base_uri": "https://localhost:8080/"
        },
        "id": "xvG658HJ0CJk",
        "outputId": "72c6b607-e077-41c9-91ed-70135f98dc0d"
      },
      "execution_count": 100,
      "outputs": [
        {
          "output_type": "stream",
          "name": "stdout",
          "text": [
            "<class 'pandas.core.frame.DataFrame'>\n",
            "RangeIndex: 2479 entries, 0 to 2478\n",
            "Data columns (total 7 columns):\n",
            " #   Column     Non-Null Count  Dtype  \n",
            "---  ------     --------------  -----  \n",
            " 0   Date       2479 non-null   object \n",
            " 1   Open       2479 non-null   float64\n",
            " 2   High       2479 non-null   float64\n",
            " 3   Low        2479 non-null   float64\n",
            " 4   Close      2479 non-null   float64\n",
            " 5   Adj Close  2479 non-null   float64\n",
            " 6   Volume     2479 non-null   int64  \n",
            "dtypes: float64(5), int64(1), object(1)\n",
            "memory usage: 135.7+ KB\n"
          ]
        }
      ]
    },
    {
      "cell_type": "markdown",
      "source": [
        "melihat ringkasan statistik dari data yang ada dalam DataFrame dan akan menampilkan beberapa statistik yang relevan."
      ],
      "metadata": {
        "id": "Jmz1TgoV0IFn"
      }
    },
    {
      "cell_type": "code",
      "source": [
        "train_data.describe()"
      ],
      "metadata": {
        "colab": {
          "base_uri": "https://localhost:8080/",
          "height": 300
        },
        "id": "uOvHbZV90Fee",
        "outputId": "72a13037-98d8-4798-85b0-207664f03109"
      },
      "execution_count": 101,
      "outputs": [
        {
          "output_type": "execute_result",
          "data": {
            "text/plain": [
              "              Open         High          Low        Close    Adj Close  \\\n",
              "count  2479.000000  2479.000000  2479.000000  2479.000000  2479.000000   \n",
              "mean    147.088826   148.858584   145.301033   147.125946   147.125946   \n",
              "std      89.687990    90.793462    88.625227    89.727593    89.727593   \n",
              "min      18.080000    18.270000    17.549999    17.730000    17.730000   \n",
              "25%      75.950001    76.879997    75.024998    75.949997    75.949997   \n",
              "50%     139.619995   140.580002   138.490005   139.600006   139.600006   \n",
              "75%     192.294998   194.245003   189.599998   192.214996   192.214996   \n",
              "max     381.679993   384.329987   378.809998   382.179993   382.179993   \n",
              "\n",
              "             Volume  \n",
              "count  2.479000e+03  \n",
              "mean   3.090757e+07  \n",
              "std    2.750507e+07  \n",
              "min    5.913100e+06  \n",
              "25%    1.580325e+07  \n",
              "50%    2.242640e+07  \n",
              "75%    3.591900e+07  \n",
              "max    5.735764e+08  "
            ],
            "text/html": [
              "\n",
              "  <div id=\"df-29a2c826-d080-4403-9282-a49ea6dbcd77\">\n",
              "    <div class=\"colab-df-container\">\n",
              "      <div>\n",
              "<style scoped>\n",
              "    .dataframe tbody tr th:only-of-type {\n",
              "        vertical-align: middle;\n",
              "    }\n",
              "\n",
              "    .dataframe tbody tr th {\n",
              "        vertical-align: top;\n",
              "    }\n",
              "\n",
              "    .dataframe thead th {\n",
              "        text-align: right;\n",
              "    }\n",
              "</style>\n",
              "<table border=\"1\" class=\"dataframe\">\n",
              "  <thead>\n",
              "    <tr style=\"text-align: right;\">\n",
              "      <th></th>\n",
              "      <th>Open</th>\n",
              "      <th>High</th>\n",
              "      <th>Low</th>\n",
              "      <th>Close</th>\n",
              "      <th>Adj Close</th>\n",
              "      <th>Volume</th>\n",
              "    </tr>\n",
              "  </thead>\n",
              "  <tbody>\n",
              "    <tr>\n",
              "      <th>count</th>\n",
              "      <td>2479.000000</td>\n",
              "      <td>2479.000000</td>\n",
              "      <td>2479.000000</td>\n",
              "      <td>2479.000000</td>\n",
              "      <td>2479.000000</td>\n",
              "      <td>2.479000e+03</td>\n",
              "    </tr>\n",
              "    <tr>\n",
              "      <th>mean</th>\n",
              "      <td>147.088826</td>\n",
              "      <td>148.858584</td>\n",
              "      <td>145.301033</td>\n",
              "      <td>147.125946</td>\n",
              "      <td>147.125946</td>\n",
              "      <td>3.090757e+07</td>\n",
              "    </tr>\n",
              "    <tr>\n",
              "      <th>std</th>\n",
              "      <td>89.687990</td>\n",
              "      <td>90.793462</td>\n",
              "      <td>88.625227</td>\n",
              "      <td>89.727593</td>\n",
              "      <td>89.727593</td>\n",
              "      <td>2.750507e+07</td>\n",
              "    </tr>\n",
              "    <tr>\n",
              "      <th>min</th>\n",
              "      <td>18.080000</td>\n",
              "      <td>18.270000</td>\n",
              "      <td>17.549999</td>\n",
              "      <td>17.730000</td>\n",
              "      <td>17.730000</td>\n",
              "      <td>5.913100e+06</td>\n",
              "    </tr>\n",
              "    <tr>\n",
              "      <th>25%</th>\n",
              "      <td>75.950001</td>\n",
              "      <td>76.879997</td>\n",
              "      <td>75.024998</td>\n",
              "      <td>75.949997</td>\n",
              "      <td>75.949997</td>\n",
              "      <td>1.580325e+07</td>\n",
              "    </tr>\n",
              "    <tr>\n",
              "      <th>50%</th>\n",
              "      <td>139.619995</td>\n",
              "      <td>140.580002</td>\n",
              "      <td>138.490005</td>\n",
              "      <td>139.600006</td>\n",
              "      <td>139.600006</td>\n",
              "      <td>2.242640e+07</td>\n",
              "    </tr>\n",
              "    <tr>\n",
              "      <th>75%</th>\n",
              "      <td>192.294998</td>\n",
              "      <td>194.245003</td>\n",
              "      <td>189.599998</td>\n",
              "      <td>192.214996</td>\n",
              "      <td>192.214996</td>\n",
              "      <td>3.591900e+07</td>\n",
              "    </tr>\n",
              "    <tr>\n",
              "      <th>max</th>\n",
              "      <td>381.679993</td>\n",
              "      <td>384.329987</td>\n",
              "      <td>378.809998</td>\n",
              "      <td>382.179993</td>\n",
              "      <td>382.179993</td>\n",
              "      <td>5.735764e+08</td>\n",
              "    </tr>\n",
              "  </tbody>\n",
              "</table>\n",
              "</div>\n",
              "      <button class=\"colab-df-convert\" onclick=\"convertToInteractive('df-29a2c826-d080-4403-9282-a49ea6dbcd77')\"\n",
              "              title=\"Convert this dataframe to an interactive table.\"\n",
              "              style=\"display:none;\">\n",
              "        \n",
              "  <svg xmlns=\"http://www.w3.org/2000/svg\" height=\"24px\"viewBox=\"0 0 24 24\"\n",
              "       width=\"24px\">\n",
              "    <path d=\"M0 0h24v24H0V0z\" fill=\"none\"/>\n",
              "    <path d=\"M18.56 5.44l.94 2.06.94-2.06 2.06-.94-2.06-.94-.94-2.06-.94 2.06-2.06.94zm-11 1L8.5 8.5l.94-2.06 2.06-.94-2.06-.94L8.5 2.5l-.94 2.06-2.06.94zm10 10l.94 2.06.94-2.06 2.06-.94-2.06-.94-.94-2.06-.94 2.06-2.06.94z\"/><path d=\"M17.41 7.96l-1.37-1.37c-.4-.4-.92-.59-1.43-.59-.52 0-1.04.2-1.43.59L10.3 9.45l-7.72 7.72c-.78.78-.78 2.05 0 2.83L4 21.41c.39.39.9.59 1.41.59.51 0 1.02-.2 1.41-.59l7.78-7.78 2.81-2.81c.8-.78.8-2.07 0-2.86zM5.41 20L4 18.59l7.72-7.72 1.47 1.35L5.41 20z\"/>\n",
              "  </svg>\n",
              "      </button>\n",
              "      \n",
              "  <style>\n",
              "    .colab-df-container {\n",
              "      display:flex;\n",
              "      flex-wrap:wrap;\n",
              "      gap: 12px;\n",
              "    }\n",
              "\n",
              "    .colab-df-convert {\n",
              "      background-color: #E8F0FE;\n",
              "      border: none;\n",
              "      border-radius: 50%;\n",
              "      cursor: pointer;\n",
              "      display: none;\n",
              "      fill: #1967D2;\n",
              "      height: 32px;\n",
              "      padding: 0 0 0 0;\n",
              "      width: 32px;\n",
              "    }\n",
              "\n",
              "    .colab-df-convert:hover {\n",
              "      background-color: #E2EBFA;\n",
              "      box-shadow: 0px 1px 2px rgba(60, 64, 67, 0.3), 0px 1px 3px 1px rgba(60, 64, 67, 0.15);\n",
              "      fill: #174EA6;\n",
              "    }\n",
              "\n",
              "    [theme=dark] .colab-df-convert {\n",
              "      background-color: #3B4455;\n",
              "      fill: #D2E3FC;\n",
              "    }\n",
              "\n",
              "    [theme=dark] .colab-df-convert:hover {\n",
              "      background-color: #434B5C;\n",
              "      box-shadow: 0px 1px 3px 1px rgba(0, 0, 0, 0.15);\n",
              "      filter: drop-shadow(0px 1px 2px rgba(0, 0, 0, 0.3));\n",
              "      fill: #FFFFFF;\n",
              "    }\n",
              "  </style>\n",
              "\n",
              "      <script>\n",
              "        const buttonEl =\n",
              "          document.querySelector('#df-29a2c826-d080-4403-9282-a49ea6dbcd77 button.colab-df-convert');\n",
              "        buttonEl.style.display =\n",
              "          google.colab.kernel.accessAllowed ? 'block' : 'none';\n",
              "\n",
              "        async function convertToInteractive(key) {\n",
              "          const element = document.querySelector('#df-29a2c826-d080-4403-9282-a49ea6dbcd77');\n",
              "          const dataTable =\n",
              "            await google.colab.kernel.invokeFunction('convertToInteractive',\n",
              "                                                     [key], {});\n",
              "          if (!dataTable) return;\n",
              "\n",
              "          const docLinkHtml = 'Like what you see? Visit the ' +\n",
              "            '<a target=\"_blank\" href=https://colab.research.google.com/notebooks/data_table.ipynb>data table notebook</a>'\n",
              "            + ' to learn more about interactive tables.';\n",
              "          element.innerHTML = '';\n",
              "          dataTable['output_type'] = 'display_data';\n",
              "          await google.colab.output.renderOutput(dataTable, element);\n",
              "          const docLink = document.createElement('div');\n",
              "          docLink.innerHTML = docLinkHtml;\n",
              "          element.appendChild(docLink);\n",
              "        }\n",
              "      </script>\n",
              "    </div>\n",
              "  </div>\n",
              "  "
            ]
          },
          "metadata": {},
          "execution_count": 101
        }
      ]
    },
    {
      "cell_type": "markdown",
      "source": [
        "mengubah kolom date pada dataframe menjadi tipe datetime agar dapat memanfaatkan fitur-fitur terkait deret waktu yang disediakan oleh Pandas."
      ],
      "metadata": {
        "id": "ckKHDQv80S2S"
      }
    },
    {
      "cell_type": "code",
      "source": [
        "train_data['Date'] = pd.to_datetime(train_data['Date'])\n",
        "train_data.set_index('Date', inplace=True)\n",
        "train_data.head()"
      ],
      "metadata": {
        "colab": {
          "base_uri": "https://localhost:8080/",
          "height": 237
        },
        "id": "V7gBtJvZ0SUZ",
        "outputId": "bb4fd954-3dad-48c7-ead3-22895f3630b9"
      },
      "execution_count": 102,
      "outputs": [
        {
          "output_type": "execute_result",
          "data": {
            "text/plain": [
              "                 Open       High        Low      Close  Adj Close     Volume\n",
              "Date                                                                        \n",
              "2012-05-18  42.049999  45.000000  38.000000  38.230000  38.230000  573576400\n",
              "2012-05-21  36.529999  36.660000  33.000000  34.029999  34.029999  168192700\n",
              "2012-05-22  32.610001  33.590000  30.940001  31.000000  31.000000  101786600\n",
              "2012-05-23  31.370001  32.500000  31.360001  32.000000  32.000000   73600000\n",
              "2012-05-24  32.950001  33.209999  31.770000  33.029999  33.029999   50237200"
            ],
            "text/html": [
              "\n",
              "  <div id=\"df-dae6186b-638e-48d1-9f63-6026c4c03e07\">\n",
              "    <div class=\"colab-df-container\">\n",
              "      <div>\n",
              "<style scoped>\n",
              "    .dataframe tbody tr th:only-of-type {\n",
              "        vertical-align: middle;\n",
              "    }\n",
              "\n",
              "    .dataframe tbody tr th {\n",
              "        vertical-align: top;\n",
              "    }\n",
              "\n",
              "    .dataframe thead th {\n",
              "        text-align: right;\n",
              "    }\n",
              "</style>\n",
              "<table border=\"1\" class=\"dataframe\">\n",
              "  <thead>\n",
              "    <tr style=\"text-align: right;\">\n",
              "      <th></th>\n",
              "      <th>Open</th>\n",
              "      <th>High</th>\n",
              "      <th>Low</th>\n",
              "      <th>Close</th>\n",
              "      <th>Adj Close</th>\n",
              "      <th>Volume</th>\n",
              "    </tr>\n",
              "    <tr>\n",
              "      <th>Date</th>\n",
              "      <th></th>\n",
              "      <th></th>\n",
              "      <th></th>\n",
              "      <th></th>\n",
              "      <th></th>\n",
              "      <th></th>\n",
              "    </tr>\n",
              "  </thead>\n",
              "  <tbody>\n",
              "    <tr>\n",
              "      <th>2012-05-18</th>\n",
              "      <td>42.049999</td>\n",
              "      <td>45.000000</td>\n",
              "      <td>38.000000</td>\n",
              "      <td>38.230000</td>\n",
              "      <td>38.230000</td>\n",
              "      <td>573576400</td>\n",
              "    </tr>\n",
              "    <tr>\n",
              "      <th>2012-05-21</th>\n",
              "      <td>36.529999</td>\n",
              "      <td>36.660000</td>\n",
              "      <td>33.000000</td>\n",
              "      <td>34.029999</td>\n",
              "      <td>34.029999</td>\n",
              "      <td>168192700</td>\n",
              "    </tr>\n",
              "    <tr>\n",
              "      <th>2012-05-22</th>\n",
              "      <td>32.610001</td>\n",
              "      <td>33.590000</td>\n",
              "      <td>30.940001</td>\n",
              "      <td>31.000000</td>\n",
              "      <td>31.000000</td>\n",
              "      <td>101786600</td>\n",
              "    </tr>\n",
              "    <tr>\n",
              "      <th>2012-05-23</th>\n",
              "      <td>31.370001</td>\n",
              "      <td>32.500000</td>\n",
              "      <td>31.360001</td>\n",
              "      <td>32.000000</td>\n",
              "      <td>32.000000</td>\n",
              "      <td>73600000</td>\n",
              "    </tr>\n",
              "    <tr>\n",
              "      <th>2012-05-24</th>\n",
              "      <td>32.950001</td>\n",
              "      <td>33.209999</td>\n",
              "      <td>31.770000</td>\n",
              "      <td>33.029999</td>\n",
              "      <td>33.029999</td>\n",
              "      <td>50237200</td>\n",
              "    </tr>\n",
              "  </tbody>\n",
              "</table>\n",
              "</div>\n",
              "      <button class=\"colab-df-convert\" onclick=\"convertToInteractive('df-dae6186b-638e-48d1-9f63-6026c4c03e07')\"\n",
              "              title=\"Convert this dataframe to an interactive table.\"\n",
              "              style=\"display:none;\">\n",
              "        \n",
              "  <svg xmlns=\"http://www.w3.org/2000/svg\" height=\"24px\"viewBox=\"0 0 24 24\"\n",
              "       width=\"24px\">\n",
              "    <path d=\"M0 0h24v24H0V0z\" fill=\"none\"/>\n",
              "    <path d=\"M18.56 5.44l.94 2.06.94-2.06 2.06-.94-2.06-.94-.94-2.06-.94 2.06-2.06.94zm-11 1L8.5 8.5l.94-2.06 2.06-.94-2.06-.94L8.5 2.5l-.94 2.06-2.06.94zm10 10l.94 2.06.94-2.06 2.06-.94-2.06-.94-.94-2.06-.94 2.06-2.06.94z\"/><path d=\"M17.41 7.96l-1.37-1.37c-.4-.4-.92-.59-1.43-.59-.52 0-1.04.2-1.43.59L10.3 9.45l-7.72 7.72c-.78.78-.78 2.05 0 2.83L4 21.41c.39.39.9.59 1.41.59.51 0 1.02-.2 1.41-.59l7.78-7.78 2.81-2.81c.8-.78.8-2.07 0-2.86zM5.41 20L4 18.59l7.72-7.72 1.47 1.35L5.41 20z\"/>\n",
              "  </svg>\n",
              "      </button>\n",
              "      \n",
              "  <style>\n",
              "    .colab-df-container {\n",
              "      display:flex;\n",
              "      flex-wrap:wrap;\n",
              "      gap: 12px;\n",
              "    }\n",
              "\n",
              "    .colab-df-convert {\n",
              "      background-color: #E8F0FE;\n",
              "      border: none;\n",
              "      border-radius: 50%;\n",
              "      cursor: pointer;\n",
              "      display: none;\n",
              "      fill: #1967D2;\n",
              "      height: 32px;\n",
              "      padding: 0 0 0 0;\n",
              "      width: 32px;\n",
              "    }\n",
              "\n",
              "    .colab-df-convert:hover {\n",
              "      background-color: #E2EBFA;\n",
              "      box-shadow: 0px 1px 2px rgba(60, 64, 67, 0.3), 0px 1px 3px 1px rgba(60, 64, 67, 0.15);\n",
              "      fill: #174EA6;\n",
              "    }\n",
              "\n",
              "    [theme=dark] .colab-df-convert {\n",
              "      background-color: #3B4455;\n",
              "      fill: #D2E3FC;\n",
              "    }\n",
              "\n",
              "    [theme=dark] .colab-df-convert:hover {\n",
              "      background-color: #434B5C;\n",
              "      box-shadow: 0px 1px 3px 1px rgba(0, 0, 0, 0.15);\n",
              "      filter: drop-shadow(0px 1px 2px rgba(0, 0, 0, 0.3));\n",
              "      fill: #FFFFFF;\n",
              "    }\n",
              "  </style>\n",
              "\n",
              "      <script>\n",
              "        const buttonEl =\n",
              "          document.querySelector('#df-dae6186b-638e-48d1-9f63-6026c4c03e07 button.colab-df-convert');\n",
              "        buttonEl.style.display =\n",
              "          google.colab.kernel.accessAllowed ? 'block' : 'none';\n",
              "\n",
              "        async function convertToInteractive(key) {\n",
              "          const element = document.querySelector('#df-dae6186b-638e-48d1-9f63-6026c4c03e07');\n",
              "          const dataTable =\n",
              "            await google.colab.kernel.invokeFunction('convertToInteractive',\n",
              "                                                     [key], {});\n",
              "          if (!dataTable) return;\n",
              "\n",
              "          const docLinkHtml = 'Like what you see? Visit the ' +\n",
              "            '<a target=\"_blank\" href=https://colab.research.google.com/notebooks/data_table.ipynb>data table notebook</a>'\n",
              "            + ' to learn more about interactive tables.';\n",
              "          element.innerHTML = '';\n",
              "          dataTable['output_type'] = 'display_data';\n",
              "          await google.colab.output.renderOutput(dataTable, element);\n",
              "          const docLink = document.createElement('div');\n",
              "          docLink.innerHTML = docLinkHtml;\n",
              "          element.appendChild(docLink);\n",
              "        }\n",
              "      </script>\n",
              "    </div>\n",
              "  </div>\n",
              "  "
            ]
          },
          "metadata": {},
          "execution_count": 102
        }
      ]
    },
    {
      "cell_type": "markdown",
      "source": [
        "**EXPLORATORY DATA ANALYSIS**"
      ],
      "metadata": {
        "id": "jws0KgX027j6"
      }
    },
    {
      "cell_type": "markdown",
      "source": [
        "Memvisualisasikan perubahan nilai saham pada saat pasar saham tutup. Pada saham meta ini"
      ],
      "metadata": {
        "id": "DU0XyTTV3Mpu"
      }
    },
    {
      "cell_type": "code",
      "source": [
        "plt.figure(figsize=(11, 8)) # resizing the plot\n",
        "train_data['Adj Close'].plot()\n",
        "plt.title('Closing Price History') # adding a title\n",
        "plt.xlabel('Date') # x label\n",
        "plt.ylabel('Closing Price') # y label\n",
        "plt.show()"
      ],
      "metadata": {
        "colab": {
          "base_uri": "https://localhost:8080/",
          "height": 658
        },
        "id": "OJ8xCxoDp5EG",
        "outputId": "10d03829-a4dc-40f8-cf54-d6ac92639d3e"
      },
      "execution_count": 103,
      "outputs": [
        {
          "output_type": "display_data",
          "data": {
            "text/plain": [
              "<Figure size 1100x800 with 1 Axes>"
            ],
            "image/png": "[encoded data removed]"
          },
          "metadata": {}
        }
      ]
    },
    {
      "cell_type": "markdown",
      "source": [
        "menampilkan grafik dari setiap kolom yang ada pada dataframe. hal tersebut memudahkan dalam membandingkan dan memvisualisasikan data dari berbagai kolom dalam DataFrame."
      ],
      "metadata": {
        "id": "4DrG5BAeclIR"
      }
    },
    {
      "cell_type": "code",
      "source": [
        "plt.figure(figsize=(16, 8)) # resizing the plot\n",
        "cols = ['Open', 'Close', 'Volume', 'High', 'Low']\n",
        "axes = train_data[cols].plot(figsize=(11, 9), subplots = True)\n",
        "plt.show()"
      ],
      "metadata": {
        "id": "Dpu_Goeaqgb5",
        "colab": {
          "base_uri": "https://localhost:8080/",
          "height": 723
        },
        "outputId": "7b5f1795-7719-4c19-f3bc-e916f5a3adbc"
      },
      "execution_count": 104,
      "outputs": [
        {
          "output_type": "display_data",
          "data": {
            "text/plain": [
              "<Figure size 1600x800 with 0 Axes>"
            ]
          },
          "metadata": {}
        },
        {
          "output_type": "display_data",
          "data": {
            "text/plain": [
              "<Figure size 1100x900 with 5 Axes>"
            ],
            "image/png": "[encoded data removed]"
          },
          "metadata": {}
        }
      ]
    },
    {
      "cell_type": "markdown",
      "source": [
        "menambahkan dua kolom baru ke dalam DataFrame yang berisi informasi persentase perubahan harga saham."
      ],
      "metadata": {
        "id": "ywTDw7ZqeDBZ"
      }
    },
    {
      "cell_type": "code",
      "source": [
        "train_data['HL_PCT'] = (train_data['High'] - train_data['Low']) / train_data['Low'] * 100.0\n",
        "train_data['PCT_change'] = (train_data['Close'] - train_data['Open']) / train_data['Open'] * 100.0"
      ],
      "metadata": {
        "id": "AfhNMGBi-qaC"
      },
      "execution_count": 105,
      "outputs": []
    },
    {
      "cell_type": "markdown",
      "source": [
        "setelah dibuat, menginput kolom tersebut kedalam dataframe"
      ],
      "metadata": {
        "id": "qGA1-rwkf5x0"
      }
    },
    {
      "cell_type": "code",
      "source": [
        "df = train_data[['HL_PCT', 'PCT_change', 'Adj Close','Volume']]"
      ],
      "metadata": {
        "id": "Tpr_qGGBpW_O"
      },
      "execution_count": 106,
      "outputs": []
    },
    {
      "cell_type": "markdown",
      "source": [
        "melakukan langkah-langkah awal dalam membuat model forecasting menggunakan machine learning"
      ],
      "metadata": {
        "id": "OoDHJ_cRgH63"
      }
    },
    {
      "cell_type": "code",
      "source": [
        "forecast_out = int(math.ceil(0.05 * len(df))) # forcasting out 5% of the entire dataset\n",
        "print(forecast_out)\n",
        "df['label'] = df['Adj Close'].shift(-forecast_out)"
      ],
      "metadata": {
        "colab": {
          "base_uri": "https://localhost:8080/"
        },
        "id": "byohkejgqUxI",
        "outputId": "09180c5b-2bf1-4a65-f915-69c471f4f3a7"
      },
      "execution_count": 107,
      "outputs": [
        {
          "output_type": "stream",
          "name": "stdout",
          "text": [
            "124\n"
          ]
        },
        {
          "output_type": "stream",
          "name": "stderr",
          "text": [
            "<ipython-input-107-8a15e8de9d0b>:3: SettingWithCopyWarning: \n",
            "A value is trying to be set on a copy of a slice from a DataFrame.\n",
            "Try using .loc[row_indexer,col_indexer] = value instead\n",
            "\n",
            "See the caveats in the documentation: https://pandas.pydata.org/pandas-docs/stable/user_guide/indexing.html#returning-a-view-versus-a-copy\n",
            "  df['label'] = df['Adj Close'].shift(-forecast_out)\n"
          ]
        }
      ]
    },
    {
      "cell_type": "markdown",
      "source": [
        "mengimpor beberapa modul dan fungsi dari library scikit-learn (sklearn) yang digunakan dalam proses pemodelan dan evaluasi."
      ],
      "metadata": {
        "id": "yV9gWmBbgoIl"
      }
    },
    {
      "cell_type": "code",
      "source": [
        "from sklearn.preprocessing import StandardScaler\n",
        "from sklearn.linear_model import LinearRegression, Ridge\n",
        "from sklearn.ensemble import RandomForestRegressor\n",
        "from sklearn.svm import SVR\n",
        "from sklearn.model_selection import train_test_split\n",
        "from sklearn.metrics import mean_squared_log_error"
      ],
      "metadata": {
        "id": "irMFwvfUQfkX"
      },
      "execution_count": 108,
      "outputs": []
    },
    {
      "cell_type": "markdown",
      "source": [
        "melakukan penskalaan fitur (feature scaling) pada data menggunakan objek StandardScaler dari sklearn"
      ],
      "metadata": {
        "id": "CEWA8nGgDCfG"
      }
    },
    {
      "cell_type": "code",
      "source": [
        "scaler = StandardScaler()\n",
        "X = np.array(df.drop(['label'], 1))\n",
        "scaler.fit(X)\n",
        "X = scaler.transform(X)"
      ],
      "metadata": {
        "id": "mpgmCvavV8oD",
        "colab": {
          "base_uri": "https://localhost:8080/"
        },
        "outputId": "96eb87b0-e2d8-4b34-d969-e4b156ed5a3e"
      },
      "execution_count": 109,
      "outputs": [
        {
          "output_type": "stream",
          "name": "stderr",
          "text": [
            "<ipython-input-109-7ce179678b12>:2: FutureWarning: In a future version of pandas all arguments of DataFrame.drop except for the argument 'labels' will be keyword-only.\n",
            "  X = np.array(df.drop(['label'], 1))\n"
          ]
        }
      ]
    },
    {
      "cell_type": "markdown",
      "source": [
        "membagi menjadi dua bagian: X_Predictions yang berisi data yang akan diprediksi, dan X yang berisi data yang akan dilatih (membangun) model. Data yang akan diprediksi berada pada bagian terakhir dari dataset"
      ],
      "metadata": {
        "id": "W1yQjRZMhc_j"
      }
    },
    {
      "cell_type": "code",
      "source": [
        "X_Predictions = X[-forecast_out:] # data to be predicted\n",
        "X = X[:-forecast_out] # data to be trained"
      ],
      "metadata": {
        "id": "ClQ0ncGKDYqg"
      },
      "execution_count": 110,
      "outputs": []
    },
    {
      "cell_type": "markdown",
      "source": [
        "memastikan data yang digunakan dalam pembuatan model tidak mengandung nilai yang hilang dan bahwa variabel target telah disiapkan dalam bentuk array NumPy yang sesuai untuk proses"
      ],
      "metadata": {
        "id": "75WdLgGSh-cX"
      }
    },
    {
      "cell_type": "code",
      "source": [
        "df.dropna(inplace=True)\n",
        "y = np.array(df['label'])"
      ],
      "metadata": {
        "colab": {
          "base_uri": "https://localhost:8080/"
        },
        "id": "wG1mOmKuV_Te",
        "outputId": "120af279-202b-40eb-e55f-1d61fdde27b6"
      },
      "execution_count": 111,
      "outputs": [
        {
          "output_type": "stream",
          "name": "stderr",
          "text": [
            "<ipython-input-111-c3da9adb30d1>:1: SettingWithCopyWarning: \n",
            "A value is trying to be set on a copy of a slice from a DataFrame\n",
            "\n",
            "See the caveats in the documentation: https://pandas.pydata.org/pandas-docs/stable/user_guide/indexing.html#returning-a-view-versus-a-copy\n",
            "  df.dropna(inplace=True)\n"
          ]
        }
      ]
    },
    {
      "cell_type": "markdown",
      "source": [
        "membagi dataset menjadi subset pelatihan (training set) dan subset pengujian (testing set) menggunakan fungsi train_test_split dari scikit-learn."
      ],
      "metadata": {
        "id": "ULGKeRHBiZbY"
      }
    },
    {
      "cell_type": "code",
      "source": [
        "X_train, X_test, y_train, y_test = train_test_split(X, y, test_size=0.2, random_state=42)"
      ],
      "metadata": {
        "id": "8D31iOX2EVAA"
      },
      "execution_count": 112,
      "outputs": []
    },
    {
      "cell_type": "markdown",
      "source": [
        "melakukan pelatihan (fitting) model regresi linear menggunakan LinearRegression dan mengukur tingkat kepercayaan (confidence) model terhadap data pengujian"
      ],
      "metadata": {
        "id": "ORMZMiQkinDI"
      }
    },
    {
      "cell_type": "code",
      "source": [
        "lr = LinearRegression()\n",
        "lr.fit(X_train, y_train)\n",
        "lr_confidence = lr.score(X_test, y_test)"
      ],
      "metadata": {
        "id": "yQXA0ZBuFLKW"
      },
      "execution_count": 113,
      "outputs": []
    },
    {
      "cell_type": "markdown",
      "source": [
        "menyimpan tingkat kepercayaan (confidence) model regresi linear terhadap data pengujian. Skor kepercayaan ini dihitung menggunakan metode score() pada objek LinearRegression setelah model dilatih dengan data pelatihan dan diuji dengan data pengujian.\n",
        "\n"
      ],
      "metadata": {
        "id": "5jVQbFJ2iy4r"
      }
    },
    {
      "cell_type": "code",
      "source": [
        "lr_confidence"
      ],
      "metadata": {
        "colab": {
          "base_uri": "https://localhost:8080/"
        },
        "id": "pK5vOlZ-jVld",
        "outputId": "b7583dcf-f4cd-4984-d912-44f496e439fc"
      },
      "execution_count": 114,
      "outputs": [
        {
          "output_type": "execute_result",
          "data": {
            "text/plain": [
              "0.8617312832362729"
            ]
          },
          "metadata": {},
          "execution_count": 114
        }
      ]
    },
    {
      "cell_type": "markdown",
      "source": [
        "melakukan pelatihan (fitting) model regresi acak (Random Forest Regression) menggunakan RandomForestRegressor dan mengukur tingkat kepercayaan (confidence) model terhadap data pengujian"
      ],
      "metadata": {
        "id": "3NWU_I38jGgF"
      }
    },
    {
      "cell_type": "code",
      "source": [
        "rf = RandomForestRegressor()\n",
        "rf.fit(X_train, y_train)\n",
        "rf_confidence = rf.score(X_test, y_test)"
      ],
      "metadata": {
        "id": "VLP373_GFaKk"
      },
      "execution_count": 115,
      "outputs": []
    },
    {
      "cell_type": "markdown",
      "source": [
        " menyimpan tingkat kepercayaan (confidence) model regresi acak (Random Forest Regression) terhadap data pengujian"
      ],
      "metadata": {
        "id": "x5UuYgYCjv1i"
      }
    },
    {
      "cell_type": "code",
      "source": [
        "rf_confidence"
      ],
      "metadata": {
        "colab": {
          "base_uri": "https://localhost:8080/"
        },
        "id": "tjxiX_mrjXZi",
        "outputId": "da02d2d0-0d51-4bbd-8af5-2a78450433b7"
      },
      "execution_count": 116,
      "outputs": [
        {
          "output_type": "execute_result",
          "data": {
            "text/plain": [
              "0.9483287431175875"
            ]
          },
          "metadata": {},
          "execution_count": 116
        }
      ]
    },
    {
      "cell_type": "markdown",
      "source": [
        " melakukan prediksi dan menambahkan hasil prediksi ke dalam DataFrame df"
      ],
      "metadata": {
        "id": "wd0nwMr9kA9q"
      }
    },
    {
      "cell_type": "code",
      "source": [
        "last_date = df.index[-1] #getting the lastdate in the dataset\n",
        "last_unix = last_date.timestamp() #converting it to time in seconds\n",
        "one_day = 86400 #one day equals 86400 seconds\n",
        "next_unix = last_unix + one_day # getting the time in seconds for the next day\n",
        "forecast_set = rf.predict(X_Predictions) # predicting forecast data\n",
        "df['Forecast'] = np.nan\n",
        "for i in forecast_set:\n",
        "    next_date = datetime.datetime.fromtimestamp(next_unix)\n",
        "    next_unix += 86400\n",
        "    df.loc[next_date] = [np.nan for _ in range(len(df.columns)-1)]+[i]"
      ],
      "metadata": {
        "colab": {
          "base_uri": "https://localhost:8080/"
        },
        "id": "3B4Ln3KaWKYP",
        "outputId": "3dea7d22-7729-4b16-f066-020c9cd7f4c2"
      },
      "execution_count": 117,
      "outputs": [
        {
          "output_type": "stream",
          "name": "stderr",
          "text": [
            "<ipython-input-117-3eb2aa88d409>:6: SettingWithCopyWarning: \n",
            "A value is trying to be set on a copy of a slice from a DataFrame.\n",
            "Try using .loc[row_indexer,col_indexer] = value instead\n",
            "\n",
            "See the caveats in the documentation: https://pandas.pydata.org/pandas-docs/stable/user_guide/indexing.html#returning-a-view-versus-a-copy\n",
            "  df['Forecast'] = np.nan\n",
            "<ipython-input-117-3eb2aa88d409>:10: SettingWithCopyWarning: \n",
            "A value is trying to be set on a copy of a slice from a DataFrame\n",
            "\n",
            "See the caveats in the documentation: https://pandas.pydata.org/pandas-docs/stable/user_guide/indexing.html#returning-a-view-versus-a-copy\n",
            "  df.loc[next_date] = [np.nan for _ in range(len(df.columns)-1)]+[i]\n",
            "<ipython-input-117-3eb2aa88d409>:10: SettingWithCopyWarning: \n",
            "A value is trying to be set on a copy of a slice from a DataFrame\n",
            "\n",
            "See the caveats in the documentation: https://pandas.pydata.org/pandas-docs/stable/user_guide/indexing.html#returning-a-view-versus-a-copy\n",
            "  df.loc[next_date] = [np.nan for _ in range(len(df.columns)-1)]+[i]\n",
            "<ipython-input-117-3eb2aa88d409>:10: SettingWithCopyWarning: \n",
            "A value is trying to be set on a copy of a slice from a DataFrame\n",
            "\n",
            "See the caveats in the documentation: https://pandas.pydata.org/pandas-docs/stable/user_guide/indexing.html#returning-a-view-versus-a-copy\n",
            "  df.loc[next_date] = [np.nan for _ in range(len(df.columns)-1)]+[i]\n",
            "<ipython-input-117-3eb2aa88d409>:10: SettingWithCopyWarning: \n",
            "A value is trying to be set on a copy of a slice from a DataFrame\n",
            "\n",
            "See the caveats in the documentation: https://pandas.pydata.org/pandas-docs/stable/user_guide/indexing.html#returning-a-view-versus-a-copy\n",
            "  df.loc[next_date] = [np.nan for _ in range(len(df.columns)-1)]+[i]\n",
            "<ipython-input-117-3eb2aa88d409>:10: SettingWithCopyWarning: \n",
            "A value is trying to be set on a copy of a slice from a DataFrame\n",
            "\n",
            "See the caveats in the documentation: https://pandas.pydata.org/pandas-docs/stable/user_guide/indexing.html#returning-a-view-versus-a-copy\n",
            "  df.loc[next_date] = [np.nan for _ in range(len(df.columns)-1)]+[i]\n",
            "<ipython-input-117-3eb2aa88d409>:10: SettingWithCopyWarning: \n",
            "A value is trying to be set on a copy of a slice from a DataFrame\n",
            "\n",
            "See the caveats in the documentation: https://pandas.pydata.org/pandas-docs/stable/user_guide/indexing.html#returning-a-view-versus-a-copy\n",
            "  df.loc[next_date] = [np.nan for _ in range(len(df.columns)-1)]+[i]\n",
            "<ipython-input-117-3eb2aa88d409>:10: SettingWithCopyWarning: \n",
            "A value is trying to be set on a copy of a slice from a DataFrame\n",
            "\n",
            "See the caveats in the documentation: https://pandas.pydata.org/pandas-docs/stable/user_guide/indexing.html#returning-a-view-versus-a-copy\n",
            "  df.loc[next_date] = [np.nan for _ in range(len(df.columns)-1)]+[i]\n",
            "<ipython-input-117-3eb2aa88d409>:10: SettingWithCopyWarning: \n",
            "A value is trying to be set on a copy of a slice from a DataFrame\n",
            "\n",
            "See the caveats in the documentation: https://pandas.pydata.org/pandas-docs/stable/user_guide/indexing.html#returning-a-view-versus-a-copy\n",
            "  df.loc[next_date] = [np.nan for _ in range(len(df.columns)-1)]+[i]\n",
            "<ipython-input-117-3eb2aa88d409>:10: SettingWithCopyWarning: \n",
            "A value is trying to be set on a copy of a slice from a DataFrame\n",
            "\n",
            "See the caveats in the documentation: https://pandas.pydata.org/pandas-docs/stable/user_guide/indexing.html#returning-a-view-versus-a-copy\n",
            "  df.loc[next_date] = [np.nan for _ in range(len(df.columns)-1)]+[i]\n",
            "<ipython-input-117-3eb2aa88d409>:10: SettingWithCopyWarning: \n",
            "A value is trying to be set on a copy of a slice from a DataFrame\n",
            "\n",
            "See the caveats in the documentation: https://pandas.pydata.org/pandas-docs/stable/user_guide/indexing.html#returning-a-view-versus-a-copy\n",
            "  df.loc[next_date] = [np.nan for _ in range(len(df.columns)-1)]+[i]\n",
            "<ipython-input-117-3eb2aa88d409>:10: SettingWithCopyWarning: \n",
            "A value is trying to be set on a copy of a slice from a DataFrame\n",
            "\n",
            "See the caveats in the documentation: https://pandas.pydata.org/pandas-docs/stable/user_guide/indexing.html#returning-a-view-versus-a-copy\n",
            "  df.loc[next_date] = [np.nan for _ in range(len(df.columns)-1)]+[i]\n",
            "<ipython-input-117-3eb2aa88d409>:10: SettingWithCopyWarning: \n",
            "A value is trying to be set on a copy of a slice from a DataFrame\n",
            "\n",
            "See the caveats in the documentation: https://pandas.pydata.org/pandas-docs/stable/user_guide/indexing.html#returning-a-view-versus-a-copy\n",
            "  df.loc[next_date] = [np.nan for _ in range(len(df.columns)-1)]+[i]\n",
            "<ipython-input-117-3eb2aa88d409>:10: SettingWithCopyWarning: \n",
            "A value is trying to be set on a copy of a slice from a DataFrame\n",
            "\n",
            "See the caveats in the documentation: https://pandas.pydata.org/pandas-docs/stable/user_guide/indexing.html#returning-a-view-versus-a-copy\n",
            "  df.loc[next_date] = [np.nan for _ in range(len(df.columns)-1)]+[i]\n",
            "<ipython-input-117-3eb2aa88d409>:10: SettingWithCopyWarning: \n",
            "A value is trying to be set on a copy of a slice from a DataFrame\n",
            "\n",
            "See the caveats in the documentation: https://pandas.pydata.org/pandas-docs/stable/user_guide/indexing.html#returning-a-view-versus-a-copy\n",
            "  df.loc[next_date] = [np.nan for _ in range(len(df.columns)-1)]+[i]\n",
            "<ipython-input-117-3eb2aa88d409>:10: SettingWithCopyWarning: \n",
            "A value is trying to be set on a copy of a slice from a DataFrame\n",
            "\n",
            "See the caveats in the documentation: https://pandas.pydata.org/pandas-docs/stable/user_guide/indexing.html#returning-a-view-versus-a-copy\n",
            "  df.loc[next_date] = [np.nan for _ in range(len(df.columns)-1)]+[i]\n",
            "<ipython-input-117-3eb2aa88d409>:10: SettingWithCopyWarning: \n",
            "A value is trying to be set on a copy of a slice from a DataFrame\n",
            "\n",
            "See the caveats in the documentation: https://pandas.pydata.org/pandas-docs/stable/user_guide/indexing.html#returning-a-view-versus-a-copy\n",
            "  df.loc[next_date] = [np.nan for _ in range(len(df.columns)-1)]+[i]\n",
            "<ipython-input-117-3eb2aa88d409>:10: SettingWithCopyWarning: \n",
            "A value is trying to be set on a copy of a slice from a DataFrame\n",
            "\n",
            "See the caveats in the documentation: https://pandas.pydata.org/pandas-docs/stable/user_guide/indexing.html#returning-a-view-versus-a-copy\n",
            "  df.loc[next_date] = [np.nan for _ in range(len(df.columns)-1)]+[i]\n",
            "<ipython-input-117-3eb2aa88d409>:10: SettingWithCopyWarning: \n",
            "A value is trying to be set on a copy of a slice from a DataFrame\n",
            "\n",
            "See the caveats in the documentation: https://pandas.pydata.org/pandas-docs/stable/user_guide/indexing.html#returning-a-view-versus-a-copy\n",
            "  df.loc[next_date] = [np.nan for _ in range(len(df.columns)-1)]+[i]\n",
            "<ipython-input-117-3eb2aa88d409>:10: SettingWithCopyWarning: \n",
            "A value is trying to be set on a copy of a slice from a DataFrame\n",
            "\n",
            "See the caveats in the documentation: https://pandas.pydata.org/pandas-docs/stable/user_guide/indexing.html#returning-a-view-versus-a-copy\n",
            "  df.loc[next_date] = [np.nan for _ in range(len(df.columns)-1)]+[i]\n",
            "<ipython-input-117-3eb2aa88d409>:10: SettingWithCopyWarning: \n",
            "A value is trying to be set on a copy of a slice from a DataFrame\n",
            "\n",
            "See the caveats in the documentation: https://pandas.pydata.org/pandas-docs/stable/user_guide/indexing.html#returning-a-view-versus-a-copy\n",
            "  df.loc[next_date] = [np.nan for _ in range(len(df.columns)-1)]+[i]\n",
            "<ipython-input-117-3eb2aa88d409>:10: SettingWithCopyWarning: \n",
            "A value is trying to be set on a copy of a slice from a DataFrame\n",
            "\n",
            "See the caveats in the documentation: https://pandas.pydata.org/pandas-docs/stable/user_guide/indexing.html#returning-a-view-versus-a-copy\n",
            "  df.loc[next_date] = [np.nan for _ in range(len(df.columns)-1)]+[i]\n",
            "<ipython-input-117-3eb2aa88d409>:10: SettingWithCopyWarning: \n",
            "A value is trying to be set on a copy of a slice from a DataFrame\n",
            "\n",
            "See the caveats in the documentation: https://pandas.pydata.org/pandas-docs/stable/user_guide/indexing.html#returning-a-view-versus-a-copy\n",
            "  df.loc[next_date] = [np.nan for _ in range(len(df.columns)-1)]+[i]\n",
            "<ipython-input-117-3eb2aa88d409>:10: SettingWithCopyWarning: \n",
            "A value is trying to be set on a copy of a slice from a DataFrame\n",
            "\n",
            "See the caveats in the documentation: https://pandas.pydata.org/pandas-docs/stable/user_guide/indexing.html#returning-a-view-versus-a-copy\n",
            "  df.loc[next_date] = [np.nan for _ in range(len(df.columns)-1)]+[i]\n",
            "<ipython-input-117-3eb2aa88d409>:10: SettingWithCopyWarning: \n",
            "A value is trying to be set on a copy of a slice from a DataFrame\n",
            "\n",
            "See the caveats in the documentation: https://pandas.pydata.org/pandas-docs/stable/user_guide/indexing.html#returning-a-view-versus-a-copy\n",
            "  df.loc[next_date] = [np.nan for _ in range(len(df.columns)-1)]+[i]\n",
            "<ipython-input-117-3eb2aa88d409>:10: SettingWithCopyWarning: \n",
            "A value is trying to be set on a copy of a slice from a DataFrame\n",
            "\n",
            "See the caveats in the documentation: https://pandas.pydata.org/pandas-docs/stable/user_guide/indexing.html#returning-a-view-versus-a-copy\n",
            "  df.loc[next_date] = [np.nan for _ in range(len(df.columns)-1)]+[i]\n",
            "<ipython-input-117-3eb2aa88d409>:10: SettingWithCopyWarning: \n",
            "A value is trying to be set on a copy of a slice from a DataFrame\n",
            "\n",
            "See the caveats in the documentation: https://pandas.pydata.org/pandas-docs/stable/user_guide/indexing.html#returning-a-view-versus-a-copy\n",
            "  df.loc[next_date] = [np.nan for _ in range(len(df.columns)-1)]+[i]\n",
            "<ipython-input-117-3eb2aa88d409>:10: SettingWithCopyWarning: \n",
            "A value is trying to be set on a copy of a slice from a DataFrame\n",
            "\n",
            "See the caveats in the documentation: https://pandas.pydata.org/pandas-docs/stable/user_guide/indexing.html#returning-a-view-versus-a-copy\n",
            "  df.loc[next_date] = [np.nan for _ in range(len(df.columns)-1)]+[i]\n",
            "<ipython-input-117-3eb2aa88d409>:10: SettingWithCopyWarning: \n",
            "A value is trying to be set on a copy of a slice from a DataFrame\n",
            "\n",
            "See the caveats in the documentation: https://pandas.pydata.org/pandas-docs/stable/user_guide/indexing.html#returning-a-view-versus-a-copy\n",
            "  df.loc[next_date] = [np.nan for _ in range(len(df.columns)-1)]+[i]\n",
            "<ipython-input-117-3eb2aa88d409>:10: SettingWithCopyWarning: \n",
            "A value is trying to be set on a copy of a slice from a DataFrame\n",
            "\n",
            "See the caveats in the documentation: https://pandas.pydata.org/pandas-docs/stable/user_guide/indexing.html#returning-a-view-versus-a-copy\n",
            "  df.loc[next_date] = [np.nan for _ in range(len(df.columns)-1)]+[i]\n",
            "<ipython-input-117-3eb2aa88d409>:10: SettingWithCopyWarning: \n",
            "A value is trying to be set on a copy of a slice from a DataFrame\n",
            "\n",
            "See the caveats in the documentation: https://pandas.pydata.org/pandas-docs/stable/user_guide/indexing.html#returning-a-view-versus-a-copy\n",
            "  df.loc[next_date] = [np.nan for _ in range(len(df.columns)-1)]+[i]\n",
            "<ipython-input-117-3eb2aa88d409>:10: SettingWithCopyWarning: \n",
            "A value is trying to be set on a copy of a slice from a DataFrame\n",
            "\n",
            "See the caveats in the documentation: https://pandas.pydata.org/pandas-docs/stable/user_guide/indexing.html#returning-a-view-versus-a-copy\n",
            "  df.loc[next_date] = [np.nan for _ in range(len(df.columns)-1)]+[i]\n",
            "<ipython-input-117-3eb2aa88d409>:10: SettingWithCopyWarning: \n",
            "A value is trying to be set on a copy of a slice from a DataFrame\n",
            "\n",
            "See the caveats in the documentation: https://pandas.pydata.org/pandas-docs/stable/user_guide/indexing.html#returning-a-view-versus-a-copy\n",
            "  df.loc[next_date] = [np.nan for _ in range(len(df.columns)-1)]+[i]\n",
            "<ipython-input-117-3eb2aa88d409>:10: SettingWithCopyWarning: \n",
            "A value is trying to be set on a copy of a slice from a DataFrame\n",
            "\n",
            "See the caveats in the documentation: https://pandas.pydata.org/pandas-docs/stable/user_guide/indexing.html#returning-a-view-versus-a-copy\n",
            "  df.loc[next_date] = [np.nan for _ in range(len(df.columns)-1)]+[i]\n",
            "<ipython-input-117-3eb2aa88d409>:10: SettingWithCopyWarning: \n",
            "A value is trying to be set on a copy of a slice from a DataFrame\n",
            "\n",
            "See the caveats in the documentation: https://pandas.pydata.org/pandas-docs/stable/user_guide/indexing.html#returning-a-view-versus-a-copy\n",
            "  df.loc[next_date] = [np.nan for _ in range(len(df.columns)-1)]+[i]\n",
            "<ipython-input-117-3eb2aa88d409>:10: SettingWithCopyWarning: \n",
            "A value is trying to be set on a copy of a slice from a DataFrame\n",
            "\n",
            "See the caveats in the documentation: https://pandas.pydata.org/pandas-docs/stable/user_guide/indexing.html#returning-a-view-versus-a-copy\n",
            "  df.loc[next_date] = [np.nan for _ in range(len(df.columns)-1)]+[i]\n",
            "<ipython-input-117-3eb2aa88d409>:10: SettingWithCopyWarning: \n",
            "A value is trying to be set on a copy of a slice from a DataFrame\n",
            "\n",
            "See the caveats in the documentation: https://pandas.pydata.org/pandas-docs/stable/user_guide/indexing.html#returning-a-view-versus-a-copy\n",
            "  df.loc[next_date] = [np.nan for _ in range(len(df.columns)-1)]+[i]\n",
            "<ipython-input-117-3eb2aa88d409>:10: SettingWithCopyWarning: \n",
            "A value is trying to be set on a copy of a slice from a DataFrame\n",
            "\n",
            "See the caveats in the documentation: https://pandas.pydata.org/pandas-docs/stable/user_guide/indexing.html#returning-a-view-versus-a-copy\n",
            "  df.loc[next_date] = [np.nan for _ in range(len(df.columns)-1)]+[i]\n",
            "<ipython-input-117-3eb2aa88d409>:10: SettingWithCopyWarning: \n",
            "A value is trying to be set on a copy of a slice from a DataFrame\n",
            "\n",
            "See the caveats in the documentation: https://pandas.pydata.org/pandas-docs/stable/user_guide/indexing.html#returning-a-view-versus-a-copy\n",
            "  df.loc[next_date] = [np.nan for _ in range(len(df.columns)-1)]+[i]\n",
            "<ipython-input-117-3eb2aa88d409>:10: SettingWithCopyWarning: \n",
            "A value is trying to be set on a copy of a slice from a DataFrame\n",
            "\n",
            "See the caveats in the documentation: https://pandas.pydata.org/pandas-docs/stable/user_guide/indexing.html#returning-a-view-versus-a-copy\n",
            "  df.loc[next_date] = [np.nan for _ in range(len(df.columns)-1)]+[i]\n",
            "<ipython-input-117-3eb2aa88d409>:10: SettingWithCopyWarning: \n",
            "A value is trying to be set on a copy of a slice from a DataFrame\n",
            "\n",
            "See the caveats in the documentation: https://pandas.pydata.org/pandas-docs/stable/user_guide/indexing.html#returning-a-view-versus-a-copy\n",
            "  df.loc[next_date] = [np.nan for _ in range(len(df.columns)-1)]+[i]\n",
            "<ipython-input-117-3eb2aa88d409>:10: SettingWithCopyWarning: \n",
            "A value is trying to be set on a copy of a slice from a DataFrame\n",
            "\n",
            "See the caveats in the documentation: https://pandas.pydata.org/pandas-docs/stable/user_guide/indexing.html#returning-a-view-versus-a-copy\n",
            "  df.loc[next_date] = [np.nan for _ in range(len(df.columns)-1)]+[i]\n",
            "<ipython-input-117-3eb2aa88d409>:10: SettingWithCopyWarning: \n",
            "A value is trying to be set on a copy of a slice from a DataFrame\n",
            "\n",
            "See the caveats in the documentation: https://pandas.pydata.org/pandas-docs/stable/user_guide/indexing.html#returning-a-view-versus-a-copy\n",
            "  df.loc[next_date] = [np.nan for _ in range(len(df.columns)-1)]+[i]\n",
            "<ipython-input-117-3eb2aa88d409>:10: SettingWithCopyWarning: \n",
            "A value is trying to be set on a copy of a slice from a DataFrame\n",
            "\n",
            "See the caveats in the documentation: https://pandas.pydata.org/pandas-docs/stable/user_guide/indexing.html#returning-a-view-versus-a-copy\n",
            "  df.loc[next_date] = [np.nan for _ in range(len(df.columns)-1)]+[i]\n",
            "<ipython-input-117-3eb2aa88d409>:10: SettingWithCopyWarning: \n",
            "A value is trying to be set on a copy of a slice from a DataFrame\n",
            "\n",
            "See the caveats in the documentation: https://pandas.pydata.org/pandas-docs/stable/user_guide/indexing.html#returning-a-view-versus-a-copy\n",
            "  df.loc[next_date] = [np.nan for _ in range(len(df.columns)-1)]+[i]\n",
            "<ipython-input-117-3eb2aa88d409>:10: SettingWithCopyWarning: \n",
            "A value is trying to be set on a copy of a slice from a DataFrame\n",
            "\n",
            "See the caveats in the documentation: https://pandas.pydata.org/pandas-docs/stable/user_guide/indexing.html#returning-a-view-versus-a-copy\n",
            "  df.loc[next_date] = [np.nan for _ in range(len(df.columns)-1)]+[i]\n",
            "<ipython-input-117-3eb2aa88d409>:10: SettingWithCopyWarning: \n",
            "A value is trying to be set on a copy of a slice from a DataFrame\n",
            "\n",
            "See the caveats in the documentation: https://pandas.pydata.org/pandas-docs/stable/user_guide/indexing.html#returning-a-view-versus-a-copy\n",
            "  df.loc[next_date] = [np.nan for _ in range(len(df.columns)-1)]+[i]\n",
            "<ipython-input-117-3eb2aa88d409>:10: SettingWithCopyWarning: \n",
            "A value is trying to be set on a copy of a slice from a DataFrame\n",
            "\n",
            "See the caveats in the documentation: https://pandas.pydata.org/pandas-docs/stable/user_guide/indexing.html#returning-a-view-versus-a-copy\n",
            "  df.loc[next_date] = [np.nan for _ in range(len(df.columns)-1)]+[i]\n",
            "<ipython-input-117-3eb2aa88d409>:10: SettingWithCopyWarning: \n",
            "A value is trying to be set on a copy of a slice from a DataFrame\n",
            "\n",
            "See the caveats in the documentation: https://pandas.pydata.org/pandas-docs/stable/user_guide/indexing.html#returning-a-view-versus-a-copy\n",
            "  df.loc[next_date] = [np.nan for _ in range(len(df.columns)-1)]+[i]\n",
            "<ipython-input-117-3eb2aa88d409>:10: SettingWithCopyWarning: \n",
            "A value is trying to be set on a copy of a slice from a DataFrame\n",
            "\n",
            "See the caveats in the documentation: https://pandas.pydata.org/pandas-docs/stable/user_guide/indexing.html#returning-a-view-versus-a-copy\n",
            "  df.loc[next_date] = [np.nan for _ in range(len(df.columns)-1)]+[i]\n",
            "<ipython-input-117-3eb2aa88d409>:10: SettingWithCopyWarning: \n",
            "A value is trying to be set on a copy of a slice from a DataFrame\n",
            "\n",
            "See the caveats in the documentation: https://pandas.pydata.org/pandas-docs/stable/user_guide/indexing.html#returning-a-view-versus-a-copy\n",
            "  df.loc[next_date] = [np.nan for _ in range(len(df.columns)-1)]+[i]\n",
            "<ipython-input-117-3eb2aa88d409>:10: SettingWithCopyWarning: \n",
            "A value is trying to be set on a copy of a slice from a DataFrame\n",
            "\n",
            "See the caveats in the documentation: https://pandas.pydata.org/pandas-docs/stable/user_guide/indexing.html#returning-a-view-versus-a-copy\n",
            "  df.loc[next_date] = [np.nan for _ in range(len(df.columns)-1)]+[i]\n",
            "<ipython-input-117-3eb2aa88d409>:10: SettingWithCopyWarning: \n",
            "A value is trying to be set on a copy of a slice from a DataFrame\n",
            "\n",
            "See the caveats in the documentation: https://pandas.pydata.org/pandas-docs/stable/user_guide/indexing.html#returning-a-view-versus-a-copy\n",
            "  df.loc[next_date] = [np.nan for _ in range(len(df.columns)-1)]+[i]\n",
            "<ipython-input-117-3eb2aa88d409>:10: SettingWithCopyWarning: \n",
            "A value is trying to be set on a copy of a slice from a DataFrame\n",
            "\n",
            "See the caveats in the documentation: https://pandas.pydata.org/pandas-docs/stable/user_guide/indexing.html#returning-a-view-versus-a-copy\n",
            "  df.loc[next_date] = [np.nan for _ in range(len(df.columns)-1)]+[i]\n",
            "<ipython-input-117-3eb2aa88d409>:10: SettingWithCopyWarning: \n",
            "A value is trying to be set on a copy of a slice from a DataFrame\n",
            "\n",
            "See the caveats in the documentation: https://pandas.pydata.org/pandas-docs/stable/user_guide/indexing.html#returning-a-view-versus-a-copy\n",
            "  df.loc[next_date] = [np.nan for _ in range(len(df.columns)-1)]+[i]\n",
            "<ipython-input-117-3eb2aa88d409>:10: SettingWithCopyWarning: \n",
            "A value is trying to be set on a copy of a slice from a DataFrame\n",
            "\n",
            "See the caveats in the documentation: https://pandas.pydata.org/pandas-docs/stable/user_guide/indexing.html#returning-a-view-versus-a-copy\n",
            "  df.loc[next_date] = [np.nan for _ in range(len(df.columns)-1)]+[i]\n",
            "<ipython-input-117-3eb2aa88d409>:10: SettingWithCopyWarning: \n",
            "A value is trying to be set on a copy of a slice from a DataFrame\n",
            "\n",
            "See the caveats in the documentation: https://pandas.pydata.org/pandas-docs/stable/user_guide/indexing.html#returning-a-view-versus-a-copy\n",
            "  df.loc[next_date] = [np.nan for _ in range(len(df.columns)-1)]+[i]\n",
            "<ipython-input-117-3eb2aa88d409>:10: SettingWithCopyWarning: \n",
            "A value is trying to be set on a copy of a slice from a DataFrame\n",
            "\n",
            "See the caveats in the documentation: https://pandas.pydata.org/pandas-docs/stable/user_guide/indexing.html#returning-a-view-versus-a-copy\n",
            "  df.loc[next_date] = [np.nan for _ in range(len(df.columns)-1)]+[i]\n",
            "<ipython-input-117-3eb2aa88d409>:10: SettingWithCopyWarning: \n",
            "A value is trying to be set on a copy of a slice from a DataFrame\n",
            "\n",
            "See the caveats in the documentation: https://pandas.pydata.org/pandas-docs/stable/user_guide/indexing.html#returning-a-view-versus-a-copy\n",
            "  df.loc[next_date] = [np.nan for _ in range(len(df.columns)-1)]+[i]\n",
            "<ipython-input-117-3eb2aa88d409>:10: SettingWithCopyWarning: \n",
            "A value is trying to be set on a copy of a slice from a DataFrame\n",
            "\n",
            "See the caveats in the documentation: https://pandas.pydata.org/pandas-docs/stable/user_guide/indexing.html#returning-a-view-versus-a-copy\n",
            "  df.loc[next_date] = [np.nan for _ in range(len(df.columns)-1)]+[i]\n",
            "<ipython-input-117-3eb2aa88d409>:10: SettingWithCopyWarning: \n",
            "A value is trying to be set on a copy of a slice from a DataFrame\n",
            "\n",
            "See the caveats in the documentation: https://pandas.pydata.org/pandas-docs/stable/user_guide/indexing.html#returning-a-view-versus-a-copy\n",
            "  df.loc[next_date] = [np.nan for _ in range(len(df.columns)-1)]+[i]\n",
            "<ipython-input-117-3eb2aa88d409>:10: SettingWithCopyWarning: \n",
            "A value is trying to be set on a copy of a slice from a DataFrame\n",
            "\n",
            "See the caveats in the documentation: https://pandas.pydata.org/pandas-docs/stable/user_guide/indexing.html#returning-a-view-versus-a-copy\n",
            "  df.loc[next_date] = [np.nan for _ in range(len(df.columns)-1)]+[i]\n",
            "<ipython-input-117-3eb2aa88d409>:10: SettingWithCopyWarning: \n",
            "A value is trying to be set on a copy of a slice from a DataFrame\n",
            "\n",
            "See the caveats in the documentation: https://pandas.pydata.org/pandas-docs/stable/user_guide/indexing.html#returning-a-view-versus-a-copy\n",
            "  df.loc[next_date] = [np.nan for _ in range(len(df.columns)-1)]+[i]\n",
            "<ipython-input-117-3eb2aa88d409>:10: SettingWithCopyWarning: \n",
            "A value is trying to be set on a copy of a slice from a DataFrame\n",
            "\n",
            "See the caveats in the documentation: https://pandas.pydata.org/pandas-docs/stable/user_guide/indexing.html#returning-a-view-versus-a-copy\n",
            "  df.loc[next_date] = [np.nan for _ in range(len(df.columns)-1)]+[i]\n",
            "<ipython-input-117-3eb2aa88d409>:10: SettingWithCopyWarning: \n",
            "A value is trying to be set on a copy of a slice from a DataFrame\n",
            "\n",
            "See the caveats in the documentation: https://pandas.pydata.org/pandas-docs/stable/user_guide/indexing.html#returning-a-view-versus-a-copy\n",
            "  df.loc[next_date] = [np.nan for _ in range(len(df.columns)-1)]+[i]\n",
            "<ipython-input-117-3eb2aa88d409>:10: SettingWithCopyWarning: \n",
            "A value is trying to be set on a copy of a slice from a DataFrame\n",
            "\n",
            "See the caveats in the documentation: https://pandas.pydata.org/pandas-docs/stable/user_guide/indexing.html#returning-a-view-versus-a-copy\n",
            "  df.loc[next_date] = [np.nan for _ in range(len(df.columns)-1)]+[i]\n",
            "<ipython-input-117-3eb2aa88d409>:10: SettingWithCopyWarning: \n",
            "A value is trying to be set on a copy of a slice from a DataFrame\n",
            "\n",
            "See the caveats in the documentation: https://pandas.pydata.org/pandas-docs/stable/user_guide/indexing.html#returning-a-view-versus-a-copy\n",
            "  df.loc[next_date] = [np.nan for _ in range(len(df.columns)-1)]+[i]\n",
            "<ipython-input-117-3eb2aa88d409>:10: SettingWithCopyWarning: \n",
            "A value is trying to be set on a copy of a slice from a DataFrame\n",
            "\n",
            "See the caveats in the documentation: https://pandas.pydata.org/pandas-docs/stable/user_guide/indexing.html#returning-a-view-versus-a-copy\n",
            "  df.loc[next_date] = [np.nan for _ in range(len(df.columns)-1)]+[i]\n",
            "<ipython-input-117-3eb2aa88d409>:10: SettingWithCopyWarning: \n",
            "A value is trying to be set on a copy of a slice from a DataFrame\n",
            "\n",
            "See the caveats in the documentation: https://pandas.pydata.org/pandas-docs/stable/user_guide/indexing.html#returning-a-view-versus-a-copy\n",
            "  df.loc[next_date] = [np.nan for _ in range(len(df.columns)-1)]+[i]\n",
            "<ipython-input-117-3eb2aa88d409>:10: SettingWithCopyWarning: \n",
            "A value is trying to be set on a copy of a slice from a DataFrame\n",
            "\n",
            "See the caveats in the documentation: https://pandas.pydata.org/pandas-docs/stable/user_guide/indexing.html#returning-a-view-versus-a-copy\n",
            "  df.loc[next_date] = [np.nan for _ in range(len(df.columns)-1)]+[i]\n",
            "<ipython-input-117-3eb2aa88d409>:10: SettingWithCopyWarning: \n",
            "A value is trying to be set on a copy of a slice from a DataFrame\n",
            "\n",
            "See the caveats in the documentation: https://pandas.pydata.org/pandas-docs/stable/user_guide/indexing.html#returning-a-view-versus-a-copy\n",
            "  df.loc[next_date] = [np.nan for _ in range(len(df.columns)-1)]+[i]\n",
            "<ipython-input-117-3eb2aa88d409>:10: SettingWithCopyWarning: \n",
            "A value is trying to be set on a copy of a slice from a DataFrame\n",
            "\n",
            "See the caveats in the documentation: https://pandas.pydata.org/pandas-docs/stable/user_guide/indexing.html#returning-a-view-versus-a-copy\n",
            "  df.loc[next_date] = [np.nan for _ in range(len(df.columns)-1)]+[i]\n",
            "<ipython-input-117-3eb2aa88d409>:10: SettingWithCopyWarning: \n",
            "A value is trying to be set on a copy of a slice from a DataFrame\n",
            "\n",
            "See the caveats in the documentation: https://pandas.pydata.org/pandas-docs/stable/user_guide/indexing.html#returning-a-view-versus-a-copy\n",
            "  df.loc[next_date] = [np.nan for _ in range(len(df.columns)-1)]+[i]\n",
            "<ipython-input-117-3eb2aa88d409>:10: SettingWithCopyWarning: \n",
            "A value is trying to be set on a copy of a slice from a DataFrame\n",
            "\n",
            "See the caveats in the documentation: https://pandas.pydata.org/pandas-docs/stable/user_guide/indexing.html#returning-a-view-versus-a-copy\n",
            "  df.loc[next_date] = [np.nan for _ in range(len(df.columns)-1)]+[i]\n",
            "<ipython-input-117-3eb2aa88d409>:10: SettingWithCopyWarning: \n",
            "A value is trying to be set on a copy of a slice from a DataFrame\n",
            "\n",
            "See the caveats in the documentation: https://pandas.pydata.org/pandas-docs/stable/user_guide/indexing.html#returning-a-view-versus-a-copy\n",
            "  df.loc[next_date] = [np.nan for _ in range(len(df.columns)-1)]+[i]\n",
            "<ipython-input-117-3eb2aa88d409>:10: SettingWithCopyWarning: \n",
            "A value is trying to be set on a copy of a slice from a DataFrame\n",
            "\n",
            "See the caveats in the documentation: https://pandas.pydata.org/pandas-docs/stable/user_guide/indexing.html#returning-a-view-versus-a-copy\n",
            "  df.loc[next_date] = [np.nan for _ in range(len(df.columns)-1)]+[i]\n",
            "<ipython-input-117-3eb2aa88d409>:10: SettingWithCopyWarning: \n",
            "A value is trying to be set on a copy of a slice from a DataFrame\n",
            "\n",
            "See the caveats in the documentation: https://pandas.pydata.org/pandas-docs/stable/user_guide/indexing.html#returning-a-view-versus-a-copy\n",
            "  df.loc[next_date] = [np.nan for _ in range(len(df.columns)-1)]+[i]\n",
            "<ipython-input-117-3eb2aa88d409>:10: SettingWithCopyWarning: \n",
            "A value is trying to be set on a copy of a slice from a DataFrame\n",
            "\n",
            "See the caveats in the documentation: https://pandas.pydata.org/pandas-docs/stable/user_guide/indexing.html#returning-a-view-versus-a-copy\n",
            "  df.loc[next_date] = [np.nan for _ in range(len(df.columns)-1)]+[i]\n",
            "<ipython-input-117-3eb2aa88d409>:10: SettingWithCopyWarning: \n",
            "A value is trying to be set on a copy of a slice from a DataFrame\n",
            "\n",
            "See the caveats in the documentation: https://pandas.pydata.org/pandas-docs/stable/user_guide/indexing.html#returning-a-view-versus-a-copy\n",
            "  df.loc[next_date] = [np.nan for _ in range(len(df.columns)-1)]+[i]\n",
            "<ipython-input-117-3eb2aa88d409>:10: SettingWithCopyWarning: \n",
            "A value is trying to be set on a copy of a slice from a DataFrame\n",
            "\n",
            "See the caveats in the documentation: https://pandas.pydata.org/pandas-docs/stable/user_guide/indexing.html#returning-a-view-versus-a-copy\n",
            "  df.loc[next_date] = [np.nan for _ in range(len(df.columns)-1)]+[i]\n",
            "<ipython-input-117-3eb2aa88d409>:10: SettingWithCopyWarning: \n",
            "A value is trying to be set on a copy of a slice from a DataFrame\n",
            "\n",
            "See the caveats in the documentation: https://pandas.pydata.org/pandas-docs/stable/user_guide/indexing.html#returning-a-view-versus-a-copy\n",
            "  df.loc[next_date] = [np.nan for _ in range(len(df.columns)-1)]+[i]\n",
            "<ipython-input-117-3eb2aa88d409>:10: SettingWithCopyWarning: \n",
            "A value is trying to be set on a copy of a slice from a DataFrame\n",
            "\n",
            "See the caveats in the documentation: https://pandas.pydata.org/pandas-docs/stable/user_guide/indexing.html#returning-a-view-versus-a-copy\n",
            "  df.loc[next_date] = [np.nan for _ in range(len(df.columns)-1)]+[i]\n",
            "<ipython-input-117-3eb2aa88d409>:10: SettingWithCopyWarning: \n",
            "A value is trying to be set on a copy of a slice from a DataFrame\n",
            "\n",
            "See the caveats in the documentation: https://pandas.pydata.org/pandas-docs/stable/user_guide/indexing.html#returning-a-view-versus-a-copy\n",
            "  df.loc[next_date] = [np.nan for _ in range(len(df.columns)-1)]+[i]\n",
            "<ipython-input-117-3eb2aa88d409>:10: SettingWithCopyWarning: \n",
            "A value is trying to be set on a copy of a slice from a DataFrame\n",
            "\n",
            "See the caveats in the documentation: https://pandas.pydata.org/pandas-docs/stable/user_guide/indexing.html#returning-a-view-versus-a-copy\n",
            "  df.loc[next_date] = [np.nan for _ in range(len(df.columns)-1)]+[i]\n",
            "<ipython-input-117-3eb2aa88d409>:10: SettingWithCopyWarning: \n",
            "A value is trying to be set on a copy of a slice from a DataFrame\n",
            "\n",
            "See the caveats in the documentation: https://pandas.pydata.org/pandas-docs/stable/user_guide/indexing.html#returning-a-view-versus-a-copy\n",
            "  df.loc[next_date] = [np.nan for _ in range(len(df.columns)-1)]+[i]\n",
            "<ipython-input-117-3eb2aa88d409>:10: SettingWithCopyWarning: \n",
            "A value is trying to be set on a copy of a slice from a DataFrame\n",
            "\n",
            "See the caveats in the documentation: https://pandas.pydata.org/pandas-docs/stable/user_guide/indexing.html#returning-a-view-versus-a-copy\n",
            "  df.loc[next_date] = [np.nan for _ in range(len(df.columns)-1)]+[i]\n",
            "<ipython-input-117-3eb2aa88d409>:10: SettingWithCopyWarning: \n",
            "A value is trying to be set on a copy of a slice from a DataFrame\n",
            "\n",
            "See the caveats in the documentation: https://pandas.pydata.org/pandas-docs/stable/user_guide/indexing.html#returning-a-view-versus-a-copy\n",
            "  df.loc[next_date] = [np.nan for _ in range(len(df.columns)-1)]+[i]\n",
            "<ipython-input-117-3eb2aa88d409>:10: SettingWithCopyWarning: \n",
            "A value is trying to be set on a copy of a slice from a DataFrame\n",
            "\n",
            "See the caveats in the documentation: https://pandas.pydata.org/pandas-docs/stable/user_guide/indexing.html#returning-a-view-versus-a-copy\n",
            "  df.loc[next_date] = [np.nan for _ in range(len(df.columns)-1)]+[i]\n",
            "<ipython-input-117-3eb2aa88d409>:10: SettingWithCopyWarning: \n",
            "A value is trying to be set on a copy of a slice from a DataFrame\n",
            "\n",
            "See the caveats in the documentation: https://pandas.pydata.org/pandas-docs/stable/user_guide/indexing.html#returning-a-view-versus-a-copy\n",
            "  df.loc[next_date] = [np.nan for _ in range(len(df.columns)-1)]+[i]\n",
            "<ipython-input-117-3eb2aa88d409>:10: SettingWithCopyWarning: \n",
            "A value is trying to be set on a copy of a slice from a DataFrame\n",
            "\n",
            "See the caveats in the documentation: https://pandas.pydata.org/pandas-docs/stable/user_guide/indexing.html#returning-a-view-versus-a-copy\n",
            "  df.loc[next_date] = [np.nan for _ in range(len(df.columns)-1)]+[i]\n",
            "<ipython-input-117-3eb2aa88d409>:10: SettingWithCopyWarning: \n",
            "A value is trying to be set on a copy of a slice from a DataFrame\n",
            "\n",
            "See the caveats in the documentation: https://pandas.pydata.org/pandas-docs/stable/user_guide/indexing.html#returning-a-view-versus-a-copy\n",
            "  df.loc[next_date] = [np.nan for _ in range(len(df.columns)-1)]+[i]\n",
            "<ipython-input-117-3eb2aa88d409>:10: SettingWithCopyWarning: \n",
            "A value is trying to be set on a copy of a slice from a DataFrame\n",
            "\n",
            "See the caveats in the documentation: https://pandas.pydata.org/pandas-docs/stable/user_guide/indexing.html#returning-a-view-versus-a-copy\n",
            "  df.loc[next_date] = [np.nan for _ in range(len(df.columns)-1)]+[i]\n",
            "<ipython-input-117-3eb2aa88d409>:10: SettingWithCopyWarning: \n",
            "A value is trying to be set on a copy of a slice from a DataFrame\n",
            "\n",
            "See the caveats in the documentation: https://pandas.pydata.org/pandas-docs/stable/user_guide/indexing.html#returning-a-view-versus-a-copy\n",
            "  df.loc[next_date] = [np.nan for _ in range(len(df.columns)-1)]+[i]\n",
            "<ipython-input-117-3eb2aa88d409>:10: SettingWithCopyWarning: \n",
            "A value is trying to be set on a copy of a slice from a DataFrame\n",
            "\n",
            "See the caveats in the documentation: https://pandas.pydata.org/pandas-docs/stable/user_guide/indexing.html#returning-a-view-versus-a-copy\n",
            "  df.loc[next_date] = [np.nan for _ in range(len(df.columns)-1)]+[i]\n",
            "<ipython-input-117-3eb2aa88d409>:10: SettingWithCopyWarning: \n",
            "A value is trying to be set on a copy of a slice from a DataFrame\n",
            "\n",
            "See the caveats in the documentation: https://pandas.pydata.org/pandas-docs/stable/user_guide/indexing.html#returning-a-view-versus-a-copy\n",
            "  df.loc[next_date] = [np.nan for _ in range(len(df.columns)-1)]+[i]\n",
            "<ipython-input-117-3eb2aa88d409>:10: SettingWithCopyWarning: \n",
            "A value is trying to be set on a copy of a slice from a DataFrame\n",
            "\n",
            "See the caveats in the documentation: https://pandas.pydata.org/pandas-docs/stable/user_guide/indexing.html#returning-a-view-versus-a-copy\n",
            "  df.loc[next_date] = [np.nan for _ in range(len(df.columns)-1)]+[i]\n",
            "<ipython-input-117-3eb2aa88d409>:10: SettingWithCopyWarning: \n",
            "A value is trying to be set on a copy of a slice from a DataFrame\n",
            "\n",
            "See the caveats in the documentation: https://pandas.pydata.org/pandas-docs/stable/user_guide/indexing.html#returning-a-view-versus-a-copy\n",
            "  df.loc[next_date] = [np.nan for _ in range(len(df.columns)-1)]+[i]\n",
            "<ipython-input-117-3eb2aa88d409>:10: SettingWithCopyWarning: \n",
            "A value is trying to be set on a copy of a slice from a DataFrame\n",
            "\n",
            "See the caveats in the documentation: https://pandas.pydata.org/pandas-docs/stable/user_guide/indexing.html#returning-a-view-versus-a-copy\n",
            "  df.loc[next_date] = [np.nan for _ in range(len(df.columns)-1)]+[i]\n",
            "<ipython-input-117-3eb2aa88d409>:10: SettingWithCopyWarning: \n",
            "A value is trying to be set on a copy of a slice from a DataFrame\n",
            "\n",
            "See the caveats in the documentation: https://pandas.pydata.org/pandas-docs/stable/user_guide/indexing.html#returning-a-view-versus-a-copy\n",
            "  df.loc[next_date] = [np.nan for _ in range(len(df.columns)-1)]+[i]\n",
            "<ipython-input-117-3eb2aa88d409>:10: SettingWithCopyWarning: \n",
            "A value is trying to be set on a copy of a slice from a DataFrame\n",
            "\n",
            "See the caveats in the documentation: https://pandas.pydata.org/pandas-docs/stable/user_guide/indexing.html#returning-a-view-versus-a-copy\n",
            "  df.loc[next_date] = [np.nan for _ in range(len(df.columns)-1)]+[i]\n",
            "<ipython-input-117-3eb2aa88d409>:10: SettingWithCopyWarning: \n",
            "A value is trying to be set on a copy of a slice from a DataFrame\n",
            "\n",
            "See the caveats in the documentation: https://pandas.pydata.org/pandas-docs/stable/user_guide/indexing.html#returning-a-view-versus-a-copy\n",
            "  df.loc[next_date] = [np.nan for _ in range(len(df.columns)-1)]+[i]\n",
            "<ipython-input-117-3eb2aa88d409>:10: SettingWithCopyWarning: \n",
            "A value is trying to be set on a copy of a slice from a DataFrame\n",
            "\n",
            "See the caveats in the documentation: https://pandas.pydata.org/pandas-docs/stable/user_guide/indexing.html#returning-a-view-versus-a-copy\n",
            "  df.loc[next_date] = [np.nan for _ in range(len(df.columns)-1)]+[i]\n",
            "<ipython-input-117-3eb2aa88d409>:10: SettingWithCopyWarning: \n",
            "A value is trying to be set on a copy of a slice from a DataFrame\n",
            "\n",
            "See the caveats in the documentation: https://pandas.pydata.org/pandas-docs/stable/user_guide/indexing.html#returning-a-view-versus-a-copy\n",
            "  df.loc[next_date] = [np.nan for _ in range(len(df.columns)-1)]+[i]\n",
            "<ipython-input-117-3eb2aa88d409>:10: SettingWithCopyWarning: \n",
            "A value is trying to be set on a copy of a slice from a DataFrame\n",
            "\n",
            "See the caveats in the documentation: https://pandas.pydata.org/pandas-docs/stable/user_guide/indexing.html#returning-a-view-versus-a-copy\n",
            "  df.loc[next_date] = [np.nan for _ in range(len(df.columns)-1)]+[i]\n",
            "<ipython-input-117-3eb2aa88d409>:10: SettingWithCopyWarning: \n",
            "A value is trying to be set on a copy of a slice from a DataFrame\n",
            "\n",
            "See the caveats in the documentation: https://pandas.pydata.org/pandas-docs/stable/user_guide/indexing.html#returning-a-view-versus-a-copy\n",
            "  df.loc[next_date] = [np.nan for _ in range(len(df.columns)-1)]+[i]\n",
            "<ipython-input-117-3eb2aa88d409>:10: SettingWithCopyWarning: \n",
            "A value is trying to be set on a copy of a slice from a DataFrame\n",
            "\n",
            "See the caveats in the documentation: https://pandas.pydata.org/pandas-docs/stable/user_guide/indexing.html#returning-a-view-versus-a-copy\n",
            "  df.loc[next_date] = [np.nan for _ in range(len(df.columns)-1)]+[i]\n",
            "<ipython-input-117-3eb2aa88d409>:10: SettingWithCopyWarning: \n",
            "A value is trying to be set on a copy of a slice from a DataFrame\n",
            "\n",
            "See the caveats in the documentation: https://pandas.pydata.org/pandas-docs/stable/user_guide/indexing.html#returning-a-view-versus-a-copy\n",
            "  df.loc[next_date] = [np.nan for _ in range(len(df.columns)-1)]+[i]\n",
            "<ipython-input-117-3eb2aa88d409>:10: SettingWithCopyWarning: \n",
            "A value is trying to be set on a copy of a slice from a DataFrame\n",
            "\n",
            "See the caveats in the documentation: https://pandas.pydata.org/pandas-docs/stable/user_guide/indexing.html#returning-a-view-versus-a-copy\n",
            "  df.loc[next_date] = [np.nan for _ in range(len(df.columns)-1)]+[i]\n",
            "<ipython-input-117-3eb2aa88d409>:10: SettingWithCopyWarning: \n",
            "A value is trying to be set on a copy of a slice from a DataFrame\n",
            "\n",
            "See the caveats in the documentation: https://pandas.pydata.org/pandas-docs/stable/user_guide/indexing.html#returning-a-view-versus-a-copy\n",
            "  df.loc[next_date] = [np.nan for _ in range(len(df.columns)-1)]+[i]\n",
            "<ipython-input-117-3eb2aa88d409>:10: SettingWithCopyWarning: \n",
            "A value is trying to be set on a copy of a slice from a DataFrame\n",
            "\n",
            "See the caveats in the documentation: https://pandas.pydata.org/pandas-docs/stable/user_guide/indexing.html#returning-a-view-versus-a-copy\n",
            "  df.loc[next_date] = [np.nan for _ in range(len(df.columns)-1)]+[i]\n",
            "<ipython-input-117-3eb2aa88d409>:10: SettingWithCopyWarning: \n",
            "A value is trying to be set on a copy of a slice from a DataFrame\n",
            "\n",
            "See the caveats in the documentation: https://pandas.pydata.org/pandas-docs/stable/user_guide/indexing.html#returning-a-view-versus-a-copy\n",
            "  df.loc[next_date] = [np.nan for _ in range(len(df.columns)-1)]+[i]\n",
            "<ipython-input-117-3eb2aa88d409>:10: SettingWithCopyWarning: \n",
            "A value is trying to be set on a copy of a slice from a DataFrame\n",
            "\n",
            "See the caveats in the documentation: https://pandas.pydata.org/pandas-docs/stable/user_guide/indexing.html#returning-a-view-versus-a-copy\n",
            "  df.loc[next_date] = [np.nan for _ in range(len(df.columns)-1)]+[i]\n",
            "<ipython-input-117-3eb2aa88d409>:10: SettingWithCopyWarning: \n",
            "A value is trying to be set on a copy of a slice from a DataFrame\n",
            "\n",
            "See the caveats in the documentation: https://pandas.pydata.org/pandas-docs/stable/user_guide/indexing.html#returning-a-view-versus-a-copy\n",
            "  df.loc[next_date] = [np.nan for _ in range(len(df.columns)-1)]+[i]\n",
            "<ipython-input-117-3eb2aa88d409>:10: SettingWithCopyWarning: \n",
            "A value is trying to be set on a copy of a slice from a DataFrame\n",
            "\n",
            "See the caveats in the documentation: https://pandas.pydata.org/pandas-docs/stable/user_guide/indexing.html#returning-a-view-versus-a-copy\n",
            "  df.loc[next_date] = [np.nan for _ in range(len(df.columns)-1)]+[i]\n",
            "<ipython-input-117-3eb2aa88d409>:10: SettingWithCopyWarning: \n",
            "A value is trying to be set on a copy of a slice from a DataFrame\n",
            "\n",
            "See the caveats in the documentation: https://pandas.pydata.org/pandas-docs/stable/user_guide/indexing.html#returning-a-view-versus-a-copy\n",
            "  df.loc[next_date] = [np.nan for _ in range(len(df.columns)-1)]+[i]\n",
            "<ipython-input-117-3eb2aa88d409>:10: SettingWithCopyWarning: \n",
            "A value is trying to be set on a copy of a slice from a DataFrame\n",
            "\n",
            "See the caveats in the documentation: https://pandas.pydata.org/pandas-docs/stable/user_guide/indexing.html#returning-a-view-versus-a-copy\n",
            "  df.loc[next_date] = [np.nan for _ in range(len(df.columns)-1)]+[i]\n",
            "<ipython-input-117-3eb2aa88d409>:10: SettingWithCopyWarning: \n",
            "A value is trying to be set on a copy of a slice from a DataFrame\n",
            "\n",
            "See the caveats in the documentation: https://pandas.pydata.org/pandas-docs/stable/user_guide/indexing.html#returning-a-view-versus-a-copy\n",
            "  df.loc[next_date] = [np.nan for _ in range(len(df.columns)-1)]+[i]\n",
            "<ipython-input-117-3eb2aa88d409>:10: SettingWithCopyWarning: \n",
            "A value is trying to be set on a copy of a slice from a DataFrame\n",
            "\n",
            "See the caveats in the documentation: https://pandas.pydata.org/pandas-docs/stable/user_guide/indexing.html#returning-a-view-versus-a-copy\n",
            "  df.loc[next_date] = [np.nan for _ in range(len(df.columns)-1)]+[i]\n",
            "<ipython-input-117-3eb2aa88d409>:10: SettingWithCopyWarning: \n",
            "A value is trying to be set on a copy of a slice from a DataFrame\n",
            "\n",
            "See the caveats in the documentation: https://pandas.pydata.org/pandas-docs/stable/user_guide/indexing.html#returning-a-view-versus-a-copy\n",
            "  df.loc[next_date] = [np.nan for _ in range(len(df.columns)-1)]+[i]\n",
            "<ipython-input-117-3eb2aa88d409>:10: SettingWithCopyWarning: \n",
            "A value is trying to be set on a copy of a slice from a DataFrame\n",
            "\n",
            "See the caveats in the documentation: https://pandas.pydata.org/pandas-docs/stable/user_guide/indexing.html#returning-a-view-versus-a-copy\n",
            "  df.loc[next_date] = [np.nan for _ in range(len(df.columns)-1)]+[i]\n",
            "<ipython-input-117-3eb2aa88d409>:10: SettingWithCopyWarning: \n",
            "A value is trying to be set on a copy of a slice from a DataFrame\n",
            "\n",
            "See the caveats in the documentation: https://pandas.pydata.org/pandas-docs/stable/user_guide/indexing.html#returning-a-view-versus-a-copy\n",
            "  df.loc[next_date] = [np.nan for _ in range(len(df.columns)-1)]+[i]\n",
            "<ipython-input-117-3eb2aa88d409>:10: SettingWithCopyWarning: \n",
            "A value is trying to be set on a copy of a slice from a DataFrame\n",
            "\n",
            "See the caveats in the documentation: https://pandas.pydata.org/pandas-docs/stable/user_guide/indexing.html#returning-a-view-versus-a-copy\n",
            "  df.loc[next_date] = [np.nan for _ in range(len(df.columns)-1)]+[i]\n",
            "<ipython-input-117-3eb2aa88d409>:10: SettingWithCopyWarning: \n",
            "A value is trying to be set on a copy of a slice from a DataFrame\n",
            "\n",
            "See the caveats in the documentation: https://pandas.pydata.org/pandas-docs/stable/user_guide/indexing.html#returning-a-view-versus-a-copy\n",
            "  df.loc[next_date] = [np.nan for _ in range(len(df.columns)-1)]+[i]\n",
            "<ipython-input-117-3eb2aa88d409>:10: SettingWithCopyWarning: \n",
            "A value is trying to be set on a copy of a slice from a DataFrame\n",
            "\n",
            "See the caveats in the documentation: https://pandas.pydata.org/pandas-docs/stable/user_guide/indexing.html#returning-a-view-versus-a-copy\n",
            "  df.loc[next_date] = [np.nan for _ in range(len(df.columns)-1)]+[i]\n",
            "<ipython-input-117-3eb2aa88d409>:10: SettingWithCopyWarning: \n",
            "A value is trying to be set on a copy of a slice from a DataFrame\n",
            "\n",
            "See the caveats in the documentation: https://pandas.pydata.org/pandas-docs/stable/user_guide/indexing.html#returning-a-view-versus-a-copy\n",
            "  df.loc[next_date] = [np.nan for _ in range(len(df.columns)-1)]+[i]\n"
          ]
        }
      ]
    },
    {
      "cell_type": "markdown",
      "source": [
        "membuat plot visualisasi harga penutupan historis ('Adj Close') dan prediksi ('Forecast') dalam DataFrame df"
      ],
      "metadata": {
        "id": "1ABD_sh5kL2Q"
      }
    },
    {
      "cell_type": "code",
      "source": [
        "plt.figure(figsize=(18, 8))\n",
        "df['Adj Close'].plot()\n",
        "df['Forecast'].plot()\n",
        "plt.legend(loc=4)\n",
        "plt.xlabel('Date')\n",
        "plt.ylabel('Price')\n",
        "plt.show()"
      ],
      "metadata": {
        "colab": {
          "base_uri": "https://localhost:8080/",
          "height": 620
        },
        "id": "iqnHOgkvWiQa",
        "outputId": "0b781bc0-1b24-4766-b54e-3fe4edbc6b17"
      },
      "execution_count": 118,
      "outputs": [
        {
          "output_type": "display_data",
          "data": {
            "text/plain": [
              "<Figure size 1800x800 with 1 Axes>"
            ],
            "image/png": "[encoded data removed]"
          },
          "metadata": {}
        }
      ]
    }
  ],
  "metadata": {
    "accelerator": "TPU",
    "colab": {
      "provenance": [],
      "machine_shape": "hm",
      "gpuClass": "premium",
      "include_colab_link": true
    },
    "kernelspec": {
      "display_name": "Python 3",
      "name": "python3"
    },
    "gpuClass": "premium"
  },
  "nbformat": 4,
  "nbformat_minor": 0
}